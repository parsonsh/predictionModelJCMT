{
 "cells": [
  {
   "cell_type": "code",
   "execution_count": 1,
   "metadata": {
    "collapsed": true
   },
   "outputs": [],
   "source": [
    "from astropy.table import Table, Column, Row, MaskedColumn\n",
    "import random\n",
    "import time\n",
    "from datetime import date\n",
    "import calendar\n",
    "import numpy as np\n",
    "import matplotlib.pyplot as plt"
   ]
  },
  {
   "cell_type": "markdown",
   "metadata": {},
   "source": [
    "First I read in my weather stats table - it probably is too basic a model but it is adequate for now, and for now I can get a feel for scatter based on runnign the \"dry\" and \"wet\" tables\n"
   ]
  },
  {
   "cell_type": "code",
   "execution_count": 2,
   "metadata": {},
   "outputs": [],
   "source": [
    "wdata = Table.read('data/weather-average.csv', format='csv')\n",
    "\n",
    "# wdata = Table.read('data/weather-average-dry.csv', format='csv')\n",
    "# wdata = Table.read('weather-average-wet.csv', format='csv')"
   ]
  },
  {
   "cell_type": "markdown",
   "metadata": {},
   "source": [
    "I then make new columns containing the cumulative fraction of time in each weather band (for use later). "
   ]
  },
  {
   "cell_type": "code",
   "execution_count": 3,
   "metadata": {},
   "outputs": [],
   "source": [
    "CumulativeBand1 = Column(wdata['Band1Percentage'], name='CumulativeBand1', format='.1f')\n",
    "wdata.add_column(CumulativeBand1)\n",
    "CumulativeBand2 = Column([x['CumulativeBand1']+x['Band2Percentage'] for x in wdata], name='CumulativeBand2', format='.1f')\n",
    "wdata.add_column(CumulativeBand2)\n",
    "CumulativeBand3 = Column([x['CumulativeBand2']+x['Band3Percentage'] for x in wdata], name='CumulativeBand3', format='.1f')\n",
    "wdata.add_column(CumulativeBand3)\n",
    "CumulativeBand4 = Column([x['CumulativeBand3']+x['Band4Percentage'] for x in wdata], name='CumulativeBand4', format='.1f')\n",
    "wdata.add_column(CumulativeBand4)\n",
    "CumulativeBand5 = Column([x['CumulativeBand4']+x['Band5Percentage'] for x in wdata], name='CumulativeBand5', format='.1f')\n",
    "wdata.add_column(CumulativeBand5)"
   ]
  },
  {
   "cell_type": "code",
   "execution_count": 4,
   "metadata": {},
   "outputs": [],
   "source": [
    "#wdata"
   ]
  },
  {
   "cell_type": "markdown",
   "metadata": {},
   "source": [
    "I define a loook up dictionary for easy table access - months are not month values but rather positions in the table\n"
   ]
  },
  {
   "cell_type": "code",
   "execution_count": 5,
   "metadata": {},
   "outputs": [],
   "source": [
    "dict = {'February': 0, 'March': 1, 'April': 2, 'May': 3, 'June': 4, 'July': 5, 'August': 6, 'September': 7, 'October': 8, 'November': 9, 'December': 10, 'January': 11}"
   ]
  },
  {
   "cell_type": "markdown",
   "metadata": {},
   "source": [
    "Now I need to load in my schedule file from this it will detemrine the month and number of days I need to predict for. From this I need to be able to \n",
    "\n",
    "i) know month and number of days - to allocated a weather band for the night\n",
    "\n",
    "ii) UT date and weather bad is then needed as input into Michael Polhen's code"
   ]
  },
  {
   "cell_type": "code",
   "execution_count": 6,
   "metadata": {},
   "outputs": [
    {
     "name": "stdout",
     "output_type": "stream",
     "text": [
      "59\n"
     ]
    },
    {
     "data": {
      "text/html": [
       "&lt;Table masked=True length=59&gt;\n",
       "<table id=\"table4614693272\" class=\"table-striped table-bordered table-condensed\">\n",
       "<thead><tr><th>Date</th><th>Priority1</th><th>Priority2</th><th>Year</th><th>Month</th><th>Day</th></tr></thead>\n",
       "<thead><tr><th>int64</th><th>str8</th><th>str8</th><th>int64</th><th>str8</th><th>int64</th></tr></thead>\n",
       "<tr><td>20180201</td><td>M16AL006</td><td>M17BL009</td><td>2018</td><td>February</td><td>1</td></tr>\n",
       "<tr><td>20180202</td><td>M16AL006</td><td>M17BL009</td><td>2018</td><td>February</td><td>2</td></tr>\n",
       "<tr><td>20180203</td><td>M16AL006</td><td>M17BL009</td><td>2018</td><td>February</td><td>3</td></tr>\n",
       "<tr><td>20180204</td><td>M16AL006</td><td>M17BL009</td><td>2018</td><td>February</td><td>4</td></tr>\n",
       "<tr><td>20180205</td><td>M16AL006</td><td>M17BL009</td><td>2018</td><td>February</td><td>5</td></tr>\n",
       "<tr><td>20180206</td><td>M17BL004</td><td>--</td><td>2018</td><td>February</td><td>6</td></tr>\n",
       "<tr><td>20180207</td><td>M17BL004</td><td>--</td><td>2018</td><td>February</td><td>7</td></tr>\n",
       "<tr><td>20180208</td><td>M17BL004</td><td>--</td><td>2018</td><td>February</td><td>8</td></tr>\n",
       "<tr><td>20180209</td><td>M17BL004</td><td>--</td><td>2018</td><td>February</td><td>9</td></tr>\n",
       "<tr><td>20180210</td><td>M17BL004</td><td>--</td><td>2018</td><td>February</td><td>10</td></tr>\n",
       "<tr><td>...</td><td>...</td><td>...</td><td>...</td><td>...</td><td>...</td></tr>\n",
       "<tr><td>20180322</td><td>PI</td><td>--</td><td>2018</td><td>March</td><td>22</td></tr>\n",
       "<tr><td>20180323</td><td>M16AL004</td><td>M17BL011</td><td>2018</td><td>March</td><td>23</td></tr>\n",
       "<tr><td>20180324</td><td>M16AL004</td><td>M17BL011</td><td>2018</td><td>March</td><td>24</td></tr>\n",
       "<tr><td>20180325</td><td>M16AL004</td><td>M17BL011</td><td>2018</td><td>March</td><td>25</td></tr>\n",
       "<tr><td>20180326</td><td>M16AL004</td><td>M17BL011</td><td>2018</td><td>March</td><td>26</td></tr>\n",
       "<tr><td>20180327</td><td>M16AL004</td><td>M17BL011</td><td>2018</td><td>March</td><td>27</td></tr>\n",
       "<tr><td>20180328</td><td>PI</td><td>--</td><td>2018</td><td>March</td><td>28</td></tr>\n",
       "<tr><td>20180329</td><td>PI</td><td>--</td><td>2018</td><td>March</td><td>29</td></tr>\n",
       "<tr><td>20180330</td><td>PI</td><td>--</td><td>2018</td><td>March</td><td>30</td></tr>\n",
       "<tr><td>20180331</td><td>PI</td><td>--</td><td>2018</td><td>March</td><td>31</td></tr>\n",
       "</table>"
      ],
      "text/plain": [
       "<Table masked=True length=59>\n",
       "  Date   Priority1 Priority2  Year  Month    Day \n",
       " int64      str8      str8   int64   str8   int64\n",
       "-------- --------- --------- ----- -------- -----\n",
       "20180201  M16AL006  M17BL009  2018 February     1\n",
       "20180202  M16AL006  M17BL009  2018 February     2\n",
       "20180203  M16AL006  M17BL009  2018 February     3\n",
       "20180204  M16AL006  M17BL009  2018 February     4\n",
       "20180205  M16AL006  M17BL009  2018 February     5\n",
       "20180206  M17BL004        --  2018 February     6\n",
       "20180207  M17BL004        --  2018 February     7\n",
       "20180208  M17BL004        --  2018 February     8\n",
       "20180209  M17BL004        --  2018 February     9\n",
       "20180210  M17BL004        --  2018 February    10\n",
       "     ...       ...       ...   ...      ...   ...\n",
       "20180322        PI        --  2018    March    22\n",
       "20180323  M16AL004  M17BL011  2018    March    23\n",
       "20180324  M16AL004  M17BL011  2018    March    24\n",
       "20180325  M16AL004  M17BL011  2018    March    25\n",
       "20180326  M16AL004  M17BL011  2018    March    26\n",
       "20180327  M16AL004  M17BL011  2018    March    27\n",
       "20180328        PI        --  2018    March    28\n",
       "20180329        PI        --  2018    March    29\n",
       "20180330        PI        --  2018    March    30\n",
       "20180331        PI        --  2018    March    31"
      ]
     },
     "execution_count": 6,
     "metadata": {},
     "output_type": "execute_result"
    }
   ],
   "source": [
    "sdata = Table.read('data/18A_schedule.csv', format='csv')\n",
    "\n",
    "yearForTable = Column([int(x/10000) for x in sdata['Date']], name='Year')\n",
    "monthForTable = Column([calendar.month_name[ int(int(x-((int(x/10000))*10000))/100)] for x in sdata['Date']], name='Month')\n",
    "dayForTable = Column([x - (int(x/100)*100) for x in sdata['Date']], name='Day')\n",
    "\n",
    "sdata.add_column(yearForTable)\n",
    "sdata.add_column(monthForTable)\n",
    "sdata.add_column(dayForTable)\n",
    "\n",
    "print (len(sdata))\n",
    "sdata"
   ]
  },
  {
   "cell_type": "code",
   "execution_count": 21,
   "metadata": {},
   "outputs": [
    {
     "name": "stdout",
     "output_type": "stream",
     "text": [
      "  Date   Priority1 Priority2 Year  Month   Day\n",
      "-------- --------- --------- ---- -------- ---\n",
      "20180201  M16AL006  M17BL009 2018 February   1\n",
      "20180202  M16AL006  M17BL009 2018 February   2\n",
      "20180203  M16AL006  M17BL009 2018 February   3\n",
      "20180204  M16AL006  M17BL009 2018 February   4\n",
      "20180205  M16AL006  M17BL009 2018 February   5\n",
      "20180206  M17BL004        -- 2018 February   6\n",
      "20180207  M17BL004        -- 2018 February   7\n",
      "20180208  M17BL004        -- 2018 February   8\n",
      "20180209  M17BL004        -- 2018 February   9\n",
      "20180210  M17BL004        -- 2018 February  10\n",
      "     ...       ...       ...  ...      ... ...\n",
      "20180313  M17BL002        -- 2018    March  13\n",
      "20180314  M16AL001        -- 2018    March  14\n",
      "20180315  M16AL001        -- 2018    March  15\n",
      "20180316  M16AL001        -- 2018    March  16\n",
      "20180317  M16AL001        -- 2018    March  17\n",
      "20180318  M16AL001        -- 2018    March  18\n",
      "20180323  M16AL004  M17BL011 2018    March  23\n",
      "20180324  M16AL004  M17BL011 2018    March  24\n",
      "20180325  M16AL004  M17BL011 2018    March  25\n",
      "20180326  M16AL004  M17BL011 2018    March  26\n",
      "20180327  M16AL004  M17BL011 2018    March  27\n",
      "Length = 33 rows\n"
     ]
    },
    {
     "data": {
      "text/html": [
       "&lt;Table masked=True length=14&gt;\n",
       "<table id=\"table4615034024\" class=\"table-striped table-bordered table-condensed\">\n",
       "<thead><tr><th>Date</th><th>Priority1</th><th>Priority2</th><th>Year</th><th>Month</th><th>Day</th></tr></thead>\n",
       "<thead><tr><th>int64</th><th>str8</th><th>str8</th><th>int64</th><th>str8</th><th>int64</th></tr></thead>\n",
       "<tr><td>20180201</td><td>M16AL006</td><td>M17BL009</td><td>2018</td><td>February</td><td>1</td></tr>\n",
       "<tr><td>20180202</td><td>M16AL006</td><td>M17BL009</td><td>2018</td><td>February</td><td>2</td></tr>\n",
       "<tr><td>20180203</td><td>M16AL006</td><td>M17BL009</td><td>2018</td><td>February</td><td>3</td></tr>\n",
       "<tr><td>20180204</td><td>M16AL006</td><td>M17BL009</td><td>2018</td><td>February</td><td>4</td></tr>\n",
       "<tr><td>20180205</td><td>M16AL006</td><td>M17BL009</td><td>2018</td><td>February</td><td>5</td></tr>\n",
       "<tr><td>20180206</td><td>M17BL004</td><td>--</td><td>2018</td><td>February</td><td>6</td></tr>\n",
       "<tr><td>20180207</td><td>M17BL004</td><td>--</td><td>2018</td><td>February</td><td>7</td></tr>\n",
       "<tr><td>20180208</td><td>M17BL004</td><td>--</td><td>2018</td><td>February</td><td>8</td></tr>\n",
       "<tr><td>20180209</td><td>M17BL004</td><td>--</td><td>2018</td><td>February</td><td>9</td></tr>\n",
       "<tr><td>20180210</td><td>M17BL004</td><td>--</td><td>2018</td><td>February</td><td>10</td></tr>\n",
       "<tr><td>20180216</td><td>M16AL004</td><td>M17BL011</td><td>2018</td><td>February</td><td>16</td></tr>\n",
       "<tr><td>20180217</td><td>M16AL004</td><td>M17BL011</td><td>2018</td><td>February</td><td>17</td></tr>\n",
       "<tr><td>20180218</td><td>M16AL004</td><td>M17BL011</td><td>2018</td><td>February</td><td>18</td></tr>\n",
       "<tr><td>20180219</td><td>M16AL004</td><td>M17BL011</td><td>2018</td><td>February</td><td>19</td></tr>\n",
       "</table>"
      ],
      "text/plain": [
       "<Table masked=True length=14>\n",
       "  Date   Priority1 Priority2  Year  Month    Day \n",
       " int64      str8      str8   int64   str8   int64\n",
       "-------- --------- --------- ----- -------- -----\n",
       "20180201  M16AL006  M17BL009  2018 February     1\n",
       "20180202  M16AL006  M17BL009  2018 February     2\n",
       "20180203  M16AL006  M17BL009  2018 February     3\n",
       "20180204  M16AL006  M17BL009  2018 February     4\n",
       "20180205  M16AL006  M17BL009  2018 February     5\n",
       "20180206  M17BL004        --  2018 February     6\n",
       "20180207  M17BL004        --  2018 February     7\n",
       "20180208  M17BL004        --  2018 February     8\n",
       "20180209  M17BL004        --  2018 February     9\n",
       "20180210  M17BL004        --  2018 February    10\n",
       "20180216  M16AL004  M17BL011  2018 February    16\n",
       "20180217  M16AL004  M17BL011  2018 February    17\n",
       "20180218  M16AL004  M17BL011  2018 February    18\n",
       "20180219  M16AL004  M17BL011  2018 February    19"
      ]
     },
     "execution_count": 21,
     "metadata": {},
     "output_type": "execute_result"
    }
   ],
   "source": [
    "# obtaines data when not PI time (PI in this example = UH and DDT and E&C)\n",
    "\n",
    "PIdata =  sdata[sdata['Priority1']=='PI'] \n",
    "\n",
    "LAPsdata = sdata[sdata['Priority1']!='PI'] \n",
    "\n",
    "print (LAPsdata)\n",
    "\n",
    "#monthgroupstable = sdata.group_by('Month') # group_by method.\n",
    "\n",
    "#print (monthgroupstable.groups.keys) # can extract out the different groups in Month\n",
    "\n",
    "# for now only look at one month\n",
    "\n",
    "#for x in monthgroupstable.groups.keys:\n",
    "#    print (str(x))\n",
    "#    print (type(str(x)))\n",
    "\n",
    "month = 'February'#'February'\n",
    "\n",
    "MonthLAPSdata = LAPsdata[LAPsdata['Month']==month] \n",
    "\n",
    "numberofdays = (len(MonthLAPSdata))\n",
    "\n",
    "MonthLAPSdata\n"
   ]
  },
  {
   "cell_type": "code",
   "execution_count": 22,
   "metadata": {},
   "outputs": [
    {
     "name": "stdout",
     "output_type": "stream",
     "text": [
      "Examining 14 nights alloacted in February \n",
      "\n",
      "fraction of nights Band 1=15.7%, 2=23.3%, 3=16.0%, 4=20.7% and 5=17.8%\n",
      "\n"
     ]
    }
   ],
   "source": [
    "print (\"Examining {} nights alloacted in {} \\n\".format(numberofdays,month))\n",
    "print ((\"fraction of nights Band 1={}%, 2={}%, 3={}%, 4={}% and 5={}%\\n\".format(wdata['Band1Percentage'][dict[month]],wdata['Band2Percentage'][dict[month]],wdata['Band3Percentage'][dict[month]],wdata['Band4Percentage'][dict[month]],wdata['Band5Percentage'][dict[month]])))\n"
   ]
  },
  {
   "cell_type": "code",
   "execution_count": 23,
   "metadata": {},
   "outputs": [
    {
     "name": "stdout",
     "output_type": "stream",
     "text": [
      "[1, 1, 2, 2, 2, 3, 3, 4, 4, 4, 5, 5, 6, 6] <class 'list'>\n",
      "[4, 6, 5, 2, 4, 2, 1, 6, 4, 3, 1, 3, 5, 2] <class 'list'>\n"
     ]
    }
   ],
   "source": [
    "# keeping it simple - allocating an entire night to one weather band\n",
    "# but doing a crappy job - issue is with small number of nights\n",
    "\n",
    "b1nights = round(numberofdays*wdata['Band1Percentage'][dict[month]]/100,)\n",
    "b2nights = round(numberofdays*wdata['Band2Percentage'][dict[month]]/100)\n",
    "b3nights = round(numberofdays*wdata['Band3Percentage'][dict[month]]/100)\n",
    "b4nights = round(numberofdays*wdata['Band4Percentage'][dict[month]]/100)\n",
    "b5nights = round(numberofdays*wdata['Band5Percentage'][dict[month]]/100)\n",
    "b6nights = round(numberofdays*(100-wdata['CumulativeBand5'][dict[month]])/100)\n",
    "\n",
    "#print((numberofdays*(100-wdata['CumulativeBand5'][dict[month]])/100))\n",
    "\n",
    "#print (b1nights,b2nights,b3nights,b4nights,b5nights,b6nights)\n",
    "\n",
    "sdatabanddata  = []\n",
    "\n",
    "for i in range(numberofdays):\n",
    "#     print(i)\n",
    "    if 0 <= i < b1nights:\n",
    "#         print (\"band 1\")\n",
    "        sdatabanddata.append(1)\n",
    "    if b1nights <= i < (b1nights+b2nights):\n",
    "#         print (\"band 2\")\n",
    "        sdatabanddata.append(2)\n",
    "    if (b1nights+b2nights) <= i < (b1nights+b2nights+b3nights):\n",
    "#         print (\"band 3\")\n",
    "        sdatabanddata.append(3)\n",
    "    if (b1nights+b2nights+b3nights) <= i < (b1nights+b2nights+b3nights+b4nights):\n",
    "#         print (\"band 4\")\n",
    "        sdatabanddata.append(4)\n",
    "    if (b1nights+b2nights+b3nights+b4nights) <= i < (b1nights+b2nights+b3nights+b4nights+b5nights):\n",
    "#         print (\"band 5\")\n",
    "        sdatabanddata.append(5)\n",
    "    if (b1nights+b2nights+b3nights+b4nights+b5nights) <= i:\n",
    "#         print (\"closed\")\n",
    "        sdatabanddata.append(6)\n",
    "\n",
    "print (sdatabanddata,type(sdatabanddata))\n",
    "rsdatabanddata = random.sample(sdatabanddata, len(sdatabanddata)) \n",
    "print (rsdatabanddata,type(rsdatabanddata))"
   ]
  },
  {
   "cell_type": "code",
   "execution_count": 45,
   "metadata": {
    "collapsed": true
   },
   "outputs": [],
   "source": [
    "modelband1frac = sdatabanddata.count(1)/len(sdatabanddata)\n",
    "modelband2frac = sdatabanddata.count(2)/len(sdatabanddata)\n",
    "modelband3frac = sdatabanddata.count(3)/len(sdatabanddata)\n",
    "modelband4frac = sdatabanddata.count(4)/len(sdatabanddata)\n",
    "modelband5frac = sdatabanddata.count(5)/len(sdatabanddata)\n",
    "modelband6frac = sdatabanddata.count(6)/len(sdatabanddata)"
   ]
  },
  {
   "cell_type": "markdown",
   "metadata": {},
   "source": [
    "Now I want to add in these weather bands to my table for each night"
   ]
  },
  {
   "cell_type": "code",
   "execution_count": 24,
   "metadata": {},
   "outputs": [],
   "source": [
    "weatherForTable = Column([rsdatabanddata[x] for x in range(numberofdays)], name='Weather')\n",
    "MonthLAPSdata.add_column(weatherForTable) # error if run multiple time"
   ]
  },
  {
   "cell_type": "code",
   "execution_count": 25,
   "metadata": {},
   "outputs": [
    {
     "data": {
      "text/html": [
       "&lt;Table masked=True length=14&gt;\n",
       "<table id=\"table4615034024\" class=\"table-striped table-bordered table-condensed\">\n",
       "<thead><tr><th>Date</th><th>Priority1</th><th>Priority2</th><th>Year</th><th>Month</th><th>Day</th><th>Weather</th></tr></thead>\n",
       "<thead><tr><th>int64</th><th>str8</th><th>str8</th><th>int64</th><th>str8</th><th>int64</th><th>int64</th></tr></thead>\n",
       "<tr><td>20180201</td><td>M16AL006</td><td>M17BL009</td><td>2018</td><td>February</td><td>1</td><td>4</td></tr>\n",
       "<tr><td>20180202</td><td>M16AL006</td><td>M17BL009</td><td>2018</td><td>February</td><td>2</td><td>6</td></tr>\n",
       "<tr><td>20180203</td><td>M16AL006</td><td>M17BL009</td><td>2018</td><td>February</td><td>3</td><td>5</td></tr>\n",
       "<tr><td>20180204</td><td>M16AL006</td><td>M17BL009</td><td>2018</td><td>February</td><td>4</td><td>2</td></tr>\n",
       "<tr><td>20180205</td><td>M16AL006</td><td>M17BL009</td><td>2018</td><td>February</td><td>5</td><td>4</td></tr>\n",
       "<tr><td>20180206</td><td>M17BL004</td><td>--</td><td>2018</td><td>February</td><td>6</td><td>2</td></tr>\n",
       "<tr><td>20180207</td><td>M17BL004</td><td>--</td><td>2018</td><td>February</td><td>7</td><td>1</td></tr>\n",
       "<tr><td>20180208</td><td>M17BL004</td><td>--</td><td>2018</td><td>February</td><td>8</td><td>6</td></tr>\n",
       "<tr><td>20180209</td><td>M17BL004</td><td>--</td><td>2018</td><td>February</td><td>9</td><td>4</td></tr>\n",
       "<tr><td>20180210</td><td>M17BL004</td><td>--</td><td>2018</td><td>February</td><td>10</td><td>3</td></tr>\n",
       "<tr><td>20180216</td><td>M16AL004</td><td>M17BL011</td><td>2018</td><td>February</td><td>16</td><td>1</td></tr>\n",
       "<tr><td>20180217</td><td>M16AL004</td><td>M17BL011</td><td>2018</td><td>February</td><td>17</td><td>3</td></tr>\n",
       "<tr><td>20180218</td><td>M16AL004</td><td>M17BL011</td><td>2018</td><td>February</td><td>18</td><td>5</td></tr>\n",
       "<tr><td>20180219</td><td>M16AL004</td><td>M17BL011</td><td>2018</td><td>February</td><td>19</td><td>2</td></tr>\n",
       "</table>"
      ],
      "text/plain": [
       "<Table masked=True length=14>\n",
       "  Date   Priority1 Priority2  Year  Month    Day  Weather\n",
       " int64      str8      str8   int64   str8   int64  int64 \n",
       "-------- --------- --------- ----- -------- ----- -------\n",
       "20180201  M16AL006  M17BL009  2018 February     1       4\n",
       "20180202  M16AL006  M17BL009  2018 February     2       6\n",
       "20180203  M16AL006  M17BL009  2018 February     3       5\n",
       "20180204  M16AL006  M17BL009  2018 February     4       2\n",
       "20180205  M16AL006  M17BL009  2018 February     5       4\n",
       "20180206  M17BL004        --  2018 February     6       2\n",
       "20180207  M17BL004        --  2018 February     7       1\n",
       "20180208  M17BL004        --  2018 February     8       6\n",
       "20180209  M17BL004        --  2018 February     9       4\n",
       "20180210  M17BL004        --  2018 February    10       3\n",
       "20180216  M16AL004  M17BL011  2018 February    16       1\n",
       "20180217  M16AL004  M17BL011  2018 February    17       3\n",
       "20180218  M16AL004  M17BL011  2018 February    18       5\n",
       "20180219  M16AL004  M17BL011  2018 February    19       2"
      ]
     },
     "execution_count": 25,
     "metadata": {},
     "output_type": "execute_result"
    }
   ],
   "source": [
    "MonthLAPSdata"
   ]
  },
  {
   "cell_type": "code",
   "execution_count": 48,
   "metadata": {},
   "outputs": [
    {
     "data": {
      "image/png": "[encoded data removed]",
      "text/plain": [
       "<matplotlib.figure.Figure at 0x11350b9e8>"
      ]
     },
     "metadata": {},
     "output_type": "display_data"
    },
    {
     "name": "stdout",
     "output_type": "stream",
     "text": [
      "fraction of nights Band 1=15.7%, 2=23.3%, 3=16.0%, 4=20.7% and 5=17.8%\n",
      "\n",
      "fraction of nights Band 1=0.14285714285714285%, 2=0.21428571428571427%, 3=0.14285714285714285%, 4=0.21428571428571427% and 5=0.14285714285714285%\n",
      "\n"
     ]
    }
   ],
   "source": [
    "#Plot histogram of days:\n",
    "plt.figure()\n",
    "plt.hist(MonthLAPSdata['Weather'], bins=6, label='default', edgecolor='white', facecolor='orange', alpha=0.8, normed=1)\n",
    "plt.show()\n",
    "print ((\"fraction of nights Band 1={}%, 2={}%, 3={}%, 4={}% and 5={}%\\n\".format(wdata['Band1Percentage'][dict[month]],wdata['Band2Percentage'][dict[month]],wdata['Band3Percentage'][dict[month]],wdata['Band4Percentage'][dict[month]],wdata['Band5Percentage'][dict[month]])))\n",
    "print ((\"fraction of nights Band 1={:}%, 2={}%, 3={}%, 4={}% and 5={}%\\n\".format(modelband1frac,modelband2frac,modelband3frac,modelband4frac,modelband5frac)))\n"
   ]
  },
  {
   "cell_type": "markdown",
   "metadata": {},
   "source": [
    "In essence I then need to calculate how many night in a month are in each weatherbands and run Michael's code on the relevent "
   ]
  },
  {
   "cell_type": "code",
   "execution_count": null,
   "metadata": {},
   "outputs": [],
   "source": []
  },
  {
   "cell_type": "code",
   "execution_count": null,
   "metadata": {
    "collapsed": true
   },
   "outputs": [],
   "source": []
  },
  {
   "cell_type": "code",
   "execution_count": null,
   "metadata": {
    "collapsed": true
   },
   "outputs": [],
   "source": []
  },
  {
   "cell_type": "code",
   "execution_count": null,
   "metadata": {
    "collapsed": true
   },
   "outputs": [],
   "source": []
  },
  {
   "cell_type": "code",
   "execution_count": null,
   "metadata": {},
   "outputs": [],
   "source": []
  },
  {
   "cell_type": "code",
   "execution_count": null,
   "metadata": {},
   "outputs": [],
   "source": []
  },
  {
   "cell_type": "code",
   "execution_count": null,
   "metadata": {},
   "outputs": [],
   "source": []
  },
  {
   "cell_type": "code",
   "execution_count": null,
   "metadata": {},
   "outputs": [],
   "source": []
  },
  {
   "cell_type": "code",
   "execution_count": null,
   "metadata": {
    "collapsed": true
   },
   "outputs": [],
   "source": []
  },
  {
   "cell_type": "code",
   "execution_count": null,
   "metadata": {
    "collapsed": true
   },
   "outputs": [],
   "source": []
  },
  {
   "cell_type": "code",
   "execution_count": null,
   "metadata": {},
   "outputs": [],
   "source": []
  },
  {
   "cell_type": "code",
   "execution_count": null,
   "metadata": {},
   "outputs": [],
   "source": []
  },
  {
   "cell_type": "code",
   "execution_count": null,
   "metadata": {},
   "outputs": [],
   "source": []
  },
  {
   "cell_type": "code",
   "execution_count": null,
   "metadata": {
    "collapsed": true
   },
   "outputs": [],
   "source": []
  }
 ],
 "metadata": {
  "kernelspec": {
   "display_name": "Python 3",
   "language": "python",
   "name": "python3"
  },
  "language_info": {
   "codemirror_mode": {
    "name": "ipython",
    "version": 3
   },
   "file_extension": ".py",
   "mimetype": "text/x-python",
   "name": "python",
   "nbconvert_exporter": "python",
   "pygments_lexer": "ipython3",
   "version": "3.6.1"
  }
 },
 "nbformat": 4,
 "nbformat_minor": 2
}
