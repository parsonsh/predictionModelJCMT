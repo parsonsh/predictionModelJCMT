{
 "cells": [
  {
   "cell_type": "code",
   "execution_count": 1,
   "metadata": {
    "collapsed": true
   },
   "outputs": [],
   "source": [
    "from astropy.table import Table, Column, Row, MaskedColumn\n",
    "import random\n",
    "import time\n",
    "from datetime import date\n",
    "import calendar\n",
    "import numpy as np\n",
    "import matplotlib.pyplot as plt"
   ]
  },
  {
   "cell_type": "markdown",
   "metadata": {},
   "source": [
    "First I read in my weather stats table - it probably is too basic a model but it is adequate for now, and for now I can get a feel for scatter based on runnign the \"dry\" and \"wet\" tables\n"
   ]
  },
  {
   "cell_type": "code",
   "execution_count": 2,
   "metadata": {},
   "outputs": [],
   "source": [
    "wdata = Table.read('data/weather-average.csv', format='csv')\n",
    "\n",
    "# wdata = Table.read('data/weather-average-dry.csv', format='csv')\n",
    "# wdata = Table.read('weather-average-wet.csv', format='csv')"
   ]
  },
  {
   "cell_type": "markdown",
   "metadata": {},
   "source": [
    "I then make new columns containing the cumulative fraction of time in each weather band (for use later). "
   ]
  },
  {
   "cell_type": "code",
   "execution_count": 3,
   "metadata": {},
   "outputs": [],
   "source": [
    "CumulativeBand1 = Column(wdata['Band1Percentage'], name='CumulativeBand1', format='.1f')\n",
    "wdata.add_column(CumulativeBand1)\n",
    "CumulativeBand2 = Column([x['CumulativeBand1']+x['Band2Percentage'] for x in wdata], name='CumulativeBand2', format='.1f')\n",
    "wdata.add_column(CumulativeBand2)\n",
    "CumulativeBand3 = Column([x['CumulativeBand2']+x['Band3Percentage'] for x in wdata], name='CumulativeBand3', format='.1f')\n",
    "wdata.add_column(CumulativeBand3)\n",
    "CumulativeBand4 = Column([x['CumulativeBand3']+x['Band4Percentage'] for x in wdata], name='CumulativeBand4', format='.1f')\n",
    "wdata.add_column(CumulativeBand4)\n",
    "CumulativeBand5 = Column([x['CumulativeBand4']+x['Band5Percentage'] for x in wdata], name='CumulativeBand5', format='.1f')\n",
    "wdata.add_column(CumulativeBand5)"
   ]
  },
  {
   "cell_type": "code",
   "execution_count": 4,
   "metadata": {},
   "outputs": [],
   "source": [
    "#wdata"
   ]
  },
  {
   "cell_type": "markdown",
   "metadata": {},
   "source": [
    "I define a loook up dictionary for easy table access - months are not month values but rather positions in the table\n"
   ]
  },
  {
   "cell_type": "code",
   "execution_count": 5,
   "metadata": {},
   "outputs": [],
   "source": [
    "dict = {'February': 0, 'March': 1, 'April': 2, 'May': 3, 'June': 4, 'July': 5, 'August': 6, 'September': 7, 'October': 8, 'November': 9, 'December': 10, 'January': 11}"
   ]
  },
  {
   "cell_type": "markdown",
   "metadata": {},
   "source": [
    "Now I need to load in my schedule file from this it will detemrine the month and number of days I need to predict for. From this I need to be able to \n",
    "\n",
    "i) know month and number of days - to allocated a weather band for the night\n",
    "\n",
    "ii) UT date and weather bad is then needed as input into Michael Polhen's code"
   ]
  },
  {
   "cell_type": "code",
   "execution_count": 8,
   "metadata": {},
   "outputs": [],
   "source": [
    "sdata = Table.read('data/18A_schedule.csv', format='csv')\n",
    "\n",
    "yearForTable = Column([int(x/10000) for x in sdata['Date']], name='Year')\n",
    "monthForTable = Column([calendar.month_name[ int(int(x-((int(x/10000))*10000))/100)] for x in sdata['Date']], name='Month')\n",
    "dayForTable = Column([x - (int(x/100)*100) for x in sdata['Date']], name='Day')\n",
    "\n",
    "sdata.add_column(yearForTable)\n",
    "sdata.add_column(monthForTable)\n",
    "sdata.add_column(dayForTable)\n",
    "\n",
    "#sdata"
   ]
  },
  {
   "cell_type": "code",
   "execution_count": 10,
   "metadata": {},
   "outputs": [],
   "source": [
    "# obtaines data when not PI time (PI in this example = UH and DDT and E&C)\n",
    "\n",
    "PIdata =  sdata[sdata['Priority1']=='PI'] \n",
    "\n",
    "LAPsdata = sdata[sdata['Priority1']!='PI'] \n",
    "\n",
    "#print (LAPsdata)"
   ]
  },
  {
   "cell_type": "code",
   "execution_count": 15,
   "metadata": {},
   "outputs": [
    {
     "name": "stdout",
     "output_type": "stream",
     "text": [
      " Month  \n",
      "--------\n",
      "   April\n",
      "February\n",
      "    July\n",
      "    June\n",
      "   March\n",
      "     May\n",
      "0\n",
      "Month\n",
      "-----\n",
      "April\n",
      "1\n",
      " Month  \n",
      "--------\n",
      "February\n",
      "2\n",
      "Month\n",
      "-----\n",
      " July\n",
      "3\n",
      "Month\n",
      "-----\n",
      " June\n",
      "4\n",
      "Month\n",
      "-----\n",
      "March\n",
      "5\n",
      "Month\n",
      "-----\n",
      "  May\n"
     ]
    }
   ],
   "source": [
    "# NEW Method::::\n",
    "# trying to get 'February','March' automatically\n",
    "\n",
    "monthgroupstable = sdata.group_by('Month') # group_by method.\n",
    "monthstoexamine = len(monthgroupstable.groups.keys)\n",
    "print (monthgroupstable.groups.keys) #alphabetically ordered! huh - not ideal\n",
    "\n",
    "for x in range(0,monthstoexamine,1):\n",
    "    print (x)\n",
    "    print (monthgroupstable.groups.keys[x])"
   ]
  },
  {
   "cell_type": "code",
   "execution_count": 18,
   "metadata": {},
   "outputs": [
    {
     "name": "stdout",
     "output_type": "stream",
     "text": [
      "February 14\n",
      "  Date   Priority1 Priority2 Year  Month   Day\n",
      "-------- --------- --------- ---- -------- ---\n",
      "20180201  M16AL006  M17BL009 2018 February   1\n",
      "20180202  M16AL006  M17BL009 2018 February   2\n",
      "20180203  M16AL006  M17BL009 2018 February   3\n",
      "20180204  M16AL006  M17BL009 2018 February   4\n",
      "20180205  M16AL006  M17BL009 2018 February   5\n",
      "20180206  M17BL004        -- 2018 February   6\n",
      "20180207  M17BL004        -- 2018 February   7\n",
      "20180208  M17BL004        -- 2018 February   8\n",
      "20180209  M17BL004        -- 2018 February   9\n",
      "20180210  M17BL004        -- 2018 February  10\n",
      "20180216  M16AL004  M17BL011 2018 February  16\n",
      "20180217  M16AL004  M17BL011 2018 February  17\n",
      "20180218  M16AL004  M17BL011 2018 February  18\n",
      "20180219  M16AL004  M17BL011 2018 February  19\n",
      "March 19\n",
      "  Date   Priority1 Priority2 Year Month Day\n",
      "-------- --------- --------- ---- ----- ---\n",
      "20180302  M16AL006  M17BL009 2018 March   2\n",
      "20180303  M16AL006  M17BL009 2018 March   3\n",
      "20180304  M16AL006  M17BL009 2018 March   4\n",
      "20180305  M16AL006  M17BL009 2018 March   5\n",
      "20180309  M17BL002        -- 2018 March   9\n",
      "20180310  M17BL002        -- 2018 March  10\n",
      "20180311  M17BL002        -- 2018 March  11\n",
      "20180312  M17BL002        -- 2018 March  12\n",
      "20180313  M17BL002        -- 2018 March  13\n",
      "20180314  M16AL001        -- 2018 March  14\n",
      "20180315  M16AL001        -- 2018 March  15\n",
      "20180316  M16AL001        -- 2018 March  16\n",
      "20180317  M16AL001        -- 2018 March  17\n",
      "20180318  M16AL001        -- 2018 March  18\n",
      "20180323  M16AL004  M17BL011 2018 March  23\n",
      "20180324  M16AL004  M17BL011 2018 March  24\n",
      "20180325  M16AL004  M17BL011 2018 March  25\n",
      "20180326  M16AL004  M17BL011 2018 March  26\n",
      "20180327  M16AL004  M17BL011 2018 March  27\n",
      "April 15\n",
      "  Date   Priority1 Priority2 Year Month Day\n",
      "-------- --------- --------- ---- ----- ---\n",
      "20180402  M16AL005        -- 2018 April   2\n",
      "20180403  M16AL005        -- 2018 April   3\n",
      "20180404  M16AL005        -- 2018 April   4\n",
      "20180405  M16AL005        -- 2018 April   5\n",
      "20180406  M16AL005        -- 2018 April   6\n",
      "20180413  M16AL005        -- 2018 April  13\n",
      "20180414  M16AL005        -- 2018 April  14\n",
      "20180415  M16AL005        -- 2018 April  15\n",
      "20180416  M16AL005        -- 2018 April  16\n",
      "20180425  M17BL002        -- 2018 April  25\n",
      "20180426  M17BL002        -- 2018 April  26\n",
      "20180427  M17BL002        -- 2018 April  27\n",
      "20180428  M17BL002        -- 2018 April  28\n",
      "20180429  M17BL002        -- 2018 April  29\n",
      "20180430    CLOSED        -- 2018 April  30\n",
      "May 23\n",
      "  Date   Priority1 Priority2 Year Month Day\n",
      "-------- --------- --------- ---- ----- ---\n",
      "20180501    CLOSED        -- 2018   May   1\n",
      "20180502    CLOSED        -- 2018   May   2\n",
      "20180503    CLOSED        -- 2018   May   3\n",
      "20180504    CLOSED        -- 2018   May   4\n",
      "20180505    CLOSED        -- 2018   May   5\n",
      "20180506    CLOSED        -- 2018   May   6\n",
      "20180507    CLOSED        -- 2018   May   7\n",
      "20180508    CLOSED        -- 2018   May   8\n",
      "20180509    CLOSED        -- 2018   May   9\n",
      "20180510    CLOSED        -- 2018   May  10\n",
      "20180511    CLOSED        -- 2018   May  11\n",
      "20180512    CLOSED        -- 2018   May  12\n",
      "20180513    CLOSED        -- 2018   May  13\n",
      "20180514    CLOSED        -- 2018   May  14\n",
      "20180515    CLOSED        -- 2018   May  15\n",
      "20180516    CLOSED        -- 2018   May  16\n",
      "20180517    CLOSED        -- 2018   May  17\n",
      "20180518    CLOSED        -- 2018   May  18\n",
      "20180525  M17BL004        -- 2018   May  25\n",
      "20180526  M17BL005        -- 2018   May  26\n",
      "20180527  M17BL006        -- 2018   May  27\n",
      "20180528  M17BL007        -- 2018   May  28\n",
      "20180529  M17BL008        -- 2018   May  29\n",
      "June 5\n",
      "  Date   Priority1 Priority2 Year Month Day\n",
      "-------- --------- --------- ---- ----- ---\n",
      "20180608  M16AL004  M17BL011 2018  June   8\n",
      "20180609  M16AL004  M17BL011 2018  June   9\n",
      "20180610  M16AL004  M17BL011 2018  June  10\n",
      "20180611  M16AL004  M17BL011 2018  June  11\n",
      "20180612  M16AL004  M17BL011 2018  June  12\n",
      "July 13\n",
      "  Date   Priority1 Priority2 Year Month Day\n",
      "-------- --------- --------- ---- ----- ---\n",
      "20180706  M17BL005        -- 2018  July   6\n",
      "20180707  M17BL005        -- 2018  July   7\n",
      "20180708  M17BL005        -- 2018  July   8\n",
      "20180709  M17BL005        -- 2018  July   9\n",
      "20180710  M17BL005        -- 2018  July  10\n",
      "20180716  M17BL004        -- 2018  July  16\n",
      "20180717  M17BL004        -- 2018  July  17\n",
      "20180718  M17BL004        -- 2018  July  18\n",
      "20180719  M17BL004        -- 2018  July  19\n",
      "20180720  M16AL004  M17BL011 2018  July  20\n",
      "20180721  M16AL004  M17BL011 2018  July  21\n",
      "20180722  M16AL004  M17BL011 2018  July  22\n",
      "20180723  M16AL004  M17BL011 2018  July  23\n"
     ]
    }
   ],
   "source": [
    "# old Method:::::\n",
    "# for now only look at one month\n",
    "\n",
    "monthlist = ('February','March','April','May','June','July') # I want to generate this automatically \n",
    "for x in monthlist:\n",
    "    month = x#'February'#'February'\n",
    "    MonthLAPSdata = LAPsdata[LAPsdata['Month']==month] #### here is when we seperate by month....\n",
    "    numberofdays = (len(MonthLAPSdata))\n",
    "    print (x,numberofdays)\n",
    "    print(MonthLAPSdata)\n"
   ]
  },
  {
   "cell_type": "code",
   "execution_count": 19,
   "metadata": {},
   "outputs": [
    {
     "name": "stdout",
     "output_type": "stream",
     "text": [
      "Examining 13 nights alloacted in July \n",
      "\n",
      "fraction of nights Band 1=3.2%, 2=27.6%, 3=32.3%, 4=22.2% and 5=9.2%\n",
      "\n"
     ]
    }
   ],
   "source": [
    "print (\"Examining {} nights alloacted in {} \\n\".format(numberofdays,month))\n",
    "print ((\"fraction of nights Band 1={}%, 2={}%, 3={}%, 4={}% and 5={}%\\n\".format(wdata['Band1Percentage'][dict[month]],wdata['Band2Percentage'][dict[month]],wdata['Band3Percentage'][dict[month]],wdata['Band4Percentage'][dict[month]],wdata['Band5Percentage'][dict[month]])))\n"
   ]
  },
  {
   "cell_type": "code",
   "execution_count": 20,
   "metadata": {},
   "outputs": [
    {
     "name": "stdout",
     "output_type": "stream",
     "text": [
      "[2, 2, 2, 2, 3, 3, 3, 3, 4, 4, 4, 5, 6] <class 'list'>\n",
      "[3, 3, 2, 2, 3, 5, 6, 2, 4, 4, 2, 3, 4] <class 'list'>\n"
     ]
    }
   ],
   "source": [
    "# keeping it simple - allocating an entire night to one weather band\n",
    "# but doing a crappy job - issue is with small number of nights\n",
    "\n",
    "b1nights = round(numberofdays*wdata['Band1Percentage'][dict[month]]/100,)\n",
    "b2nights = round(numberofdays*wdata['Band2Percentage'][dict[month]]/100)\n",
    "b3nights = round(numberofdays*wdata['Band3Percentage'][dict[month]]/100)\n",
    "b4nights = round(numberofdays*wdata['Band4Percentage'][dict[month]]/100)\n",
    "b5nights = round(numberofdays*wdata['Band5Percentage'][dict[month]]/100)\n",
    "b6nights = round(numberofdays*(100-wdata['CumulativeBand5'][dict[month]])/100)\n",
    "\n",
    "#print((numberofdays*(100-wdata['CumulativeBand5'][dict[month]])/100))\n",
    "\n",
    "#print (b1nights,b2nights,b3nights,b4nights,b5nights,b6nights)\n",
    "\n",
    "sdatabanddata  = []\n",
    "\n",
    "for i in range(numberofdays):\n",
    "#     print(i)\n",
    "    if 0 <= i < b1nights:\n",
    "#         print (\"band 1\")\n",
    "        sdatabanddata.append(1)\n",
    "    if b1nights <= i < (b1nights+b2nights):\n",
    "#         print (\"band 2\")\n",
    "        sdatabanddata.append(2)\n",
    "    if (b1nights+b2nights) <= i < (b1nights+b2nights+b3nights):\n",
    "#         print (\"band 3\")\n",
    "        sdatabanddata.append(3)\n",
    "    if (b1nights+b2nights+b3nights) <= i < (b1nights+b2nights+b3nights+b4nights):\n",
    "#         print (\"band 4\")\n",
    "        sdatabanddata.append(4)\n",
    "    if (b1nights+b2nights+b3nights+b4nights) <= i < (b1nights+b2nights+b3nights+b4nights+b5nights):\n",
    "#         print (\"band 5\")\n",
    "        sdatabanddata.append(5)\n",
    "    if (b1nights+b2nights+b3nights+b4nights+b5nights) <= i:\n",
    "#         print (\"closed\")\n",
    "        sdatabanddata.append(6)\n",
    "\n",
    "print (sdatabanddata,type(sdatabanddata))\n",
    "rsdatabanddata = random.sample(sdatabanddata, len(sdatabanddata)) \n",
    "print (rsdatabanddata,type(rsdatabanddata))"
   ]
  },
  {
   "cell_type": "code",
   "execution_count": 21,
   "metadata": {
    "collapsed": true
   },
   "outputs": [],
   "source": [
    "modelband1frac = sdatabanddata.count(1)/len(sdatabanddata)\n",
    "modelband2frac = sdatabanddata.count(2)/len(sdatabanddata)\n",
    "modelband3frac = sdatabanddata.count(3)/len(sdatabanddata)\n",
    "modelband4frac = sdatabanddata.count(4)/len(sdatabanddata)\n",
    "modelband5frac = sdatabanddata.count(5)/len(sdatabanddata)\n",
    "modelband6frac = sdatabanddata.count(6)/len(sdatabanddata)"
   ]
  },
  {
   "cell_type": "markdown",
   "metadata": {},
   "source": [
    "Now I want to add in these weather bands to my table for each night"
   ]
  },
  {
   "cell_type": "code",
   "execution_count": 22,
   "metadata": {},
   "outputs": [],
   "source": [
    "weatherForTable = Column([rsdatabanddata[x] for x in range(numberofdays)], name='Weather')\n",
    "MonthLAPSdata.add_column(weatherForTable) # error if run multiple time"
   ]
  },
  {
   "cell_type": "code",
   "execution_count": 23,
   "metadata": {},
   "outputs": [
    {
     "data": {
      "text/html": [
       "&lt;Table masked=True length=13&gt;\n",
       "<table id=\"table4626564768\" class=\"table-striped table-bordered table-condensed\">\n",
       "<thead><tr><th>Date</th><th>Priority1</th><th>Priority2</th><th>Year</th><th>Month</th><th>Day</th><th>Weather</th></tr></thead>\n",
       "<thead><tr><th>int64</th><th>str8</th><th>str8</th><th>int64</th><th>str8</th><th>int64</th><th>int64</th></tr></thead>\n",
       "<tr><td>20180706</td><td>M17BL005</td><td>--</td><td>2018</td><td>July</td><td>6</td><td>3</td></tr>\n",
       "<tr><td>20180707</td><td>M17BL005</td><td>--</td><td>2018</td><td>July</td><td>7</td><td>3</td></tr>\n",
       "<tr><td>20180708</td><td>M17BL005</td><td>--</td><td>2018</td><td>July</td><td>8</td><td>2</td></tr>\n",
       "<tr><td>20180709</td><td>M17BL005</td><td>--</td><td>2018</td><td>July</td><td>9</td><td>2</td></tr>\n",
       "<tr><td>20180710</td><td>M17BL005</td><td>--</td><td>2018</td><td>July</td><td>10</td><td>3</td></tr>\n",
       "<tr><td>20180716</td><td>M17BL004</td><td>--</td><td>2018</td><td>July</td><td>16</td><td>5</td></tr>\n",
       "<tr><td>20180717</td><td>M17BL004</td><td>--</td><td>2018</td><td>July</td><td>17</td><td>6</td></tr>\n",
       "<tr><td>20180718</td><td>M17BL004</td><td>--</td><td>2018</td><td>July</td><td>18</td><td>2</td></tr>\n",
       "<tr><td>20180719</td><td>M17BL004</td><td>--</td><td>2018</td><td>July</td><td>19</td><td>4</td></tr>\n",
       "<tr><td>20180720</td><td>M16AL004</td><td>M17BL011</td><td>2018</td><td>July</td><td>20</td><td>4</td></tr>\n",
       "<tr><td>20180721</td><td>M16AL004</td><td>M17BL011</td><td>2018</td><td>July</td><td>21</td><td>2</td></tr>\n",
       "<tr><td>20180722</td><td>M16AL004</td><td>M17BL011</td><td>2018</td><td>July</td><td>22</td><td>3</td></tr>\n",
       "<tr><td>20180723</td><td>M16AL004</td><td>M17BL011</td><td>2018</td><td>July</td><td>23</td><td>4</td></tr>\n",
       "</table>"
      ],
      "text/plain": [
       "<Table masked=True length=13>\n",
       "  Date   Priority1 Priority2  Year Month  Day  Weather\n",
       " int64      str8      str8   int64  str8 int64  int64 \n",
       "-------- --------- --------- ----- ----- ----- -------\n",
       "20180706  M17BL005        --  2018  July     6       3\n",
       "20180707  M17BL005        --  2018  July     7       3\n",
       "20180708  M17BL005        --  2018  July     8       2\n",
       "20180709  M17BL005        --  2018  July     9       2\n",
       "20180710  M17BL005        --  2018  July    10       3\n",
       "20180716  M17BL004        --  2018  July    16       5\n",
       "20180717  M17BL004        --  2018  July    17       6\n",
       "20180718  M17BL004        --  2018  July    18       2\n",
       "20180719  M17BL004        --  2018  July    19       4\n",
       "20180720  M16AL004  M17BL011  2018  July    20       4\n",
       "20180721  M16AL004  M17BL011  2018  July    21       2\n",
       "20180722  M16AL004  M17BL011  2018  July    22       3\n",
       "20180723  M16AL004  M17BL011  2018  July    23       4"
      ]
     },
     "execution_count": 23,
     "metadata": {},
     "output_type": "execute_result"
    }
   ],
   "source": [
    "MonthLAPSdata"
   ]
  },
  {
   "cell_type": "code",
   "execution_count": 27,
   "metadata": {},
   "outputs": [
    {
     "data": {
      "image/png": "[encoded data removed]",
      "text/plain": [
       "<matplotlib.figure.Figure at 0x1171e5748>"
      ]
     },
     "metadata": {},
     "output_type": "display_data"
    },
    {
     "name": "stdout",
     "output_type": "stream",
     "text": [
      "fraction of nights Band 1=3.2%, 2=27.6%, 3=32.3%, 4=22.2% and 5=9.2%\n",
      "\n",
      "fraction of nights Band 1=0.0%, 2=30.8%, 3=30.8%, 4=23.1% and 5=7.7%\n",
      "\n"
     ]
    }
   ],
   "source": [
    "#Plot histogram of days:\n",
    "plt.figure()\n",
    "plt.hist(MonthLAPSdata['Weather'], bins=[1,2,3,4,5,6], label='default', edgecolor='white', facecolor='orange', alpha=0.8, normed=1)\n",
    "plt.show()\n",
    "print ((\"fraction of nights Band 1={}%, 2={}%, 3={}%, 4={}% and 5={}%\\n\".format(wdata['Band1Percentage'][dict[month]],wdata['Band2Percentage'][dict[month]],wdata['Band3Percentage'][dict[month]],wdata['Band4Percentage'][dict[month]],wdata['Band5Percentage'][dict[month]])))\n",
    "print ((\"fraction of nights Band 1={:.1f}%, 2={:.1f}%, 3={:.1f}%, 4={:.1f}% and 5={:.1f}%\\n\".format(modelband1frac*100,modelband2frac*100,modelband3frac*100,modelband4frac*100,modelband5frac*100)))\n"
   ]
  },
  {
   "cell_type": "markdown",
   "metadata": {},
   "source": [
    "In essence I then need to calculate how many night in a month are in each weatherbands and run Michael's code on the relevent "
   ]
  },
  {
   "cell_type": "code",
   "execution_count": null,
   "metadata": {},
   "outputs": [],
   "source": []
  },
  {
   "cell_type": "code",
   "execution_count": null,
   "metadata": {
    "collapsed": true
   },
   "outputs": [],
   "source": []
  },
  {
   "cell_type": "code",
   "execution_count": null,
   "metadata": {
    "collapsed": true
   },
   "outputs": [],
   "source": []
  },
  {
   "cell_type": "code",
   "execution_count": null,
   "metadata": {
    "collapsed": true
   },
   "outputs": [],
   "source": []
  },
  {
   "cell_type": "code",
   "execution_count": null,
   "metadata": {},
   "outputs": [],
   "source": []
  },
  {
   "cell_type": "code",
   "execution_count": null,
   "metadata": {},
   "outputs": [],
   "source": []
  },
  {
   "cell_type": "code",
   "execution_count": null,
   "metadata": {},
   "outputs": [],
   "source": []
  },
  {
   "cell_type": "code",
   "execution_count": null,
   "metadata": {},
   "outputs": [],
   "source": []
  },
  {
   "cell_type": "code",
   "execution_count": null,
   "metadata": {
    "collapsed": true
   },
   "outputs": [],
   "source": []
  },
  {
   "cell_type": "code",
   "execution_count": null,
   "metadata": {
    "collapsed": true
   },
   "outputs": [],
   "source": []
  },
  {
   "cell_type": "code",
   "execution_count": null,
   "metadata": {},
   "outputs": [],
   "source": []
  },
  {
   "cell_type": "code",
   "execution_count": null,
   "metadata": {},
   "outputs": [],
   "source": []
  },
  {
   "cell_type": "code",
   "execution_count": null,
   "metadata": {},
   "outputs": [],
   "source": []
  },
  {
   "cell_type": "code",
   "execution_count": null,
   "metadata": {
    "collapsed": true
   },
   "outputs": [],
   "source": []
  }
 ],
 "metadata": {
  "kernelspec": {
   "display_name": "Python 3",
   "language": "python",
   "name": "python3"
  },
  "language_info": {
   "codemirror_mode": {
    "name": "ipython",
    "version": 3
   },
   "file_extension": ".py",
   "mimetype": "text/x-python",
   "name": "python",
   "nbconvert_exporter": "python",
   "pygments_lexer": "ipython3",
   "version": "3.6.1"
  }
 },
 "nbformat": 4,
 "nbformat_minor": 2
}
