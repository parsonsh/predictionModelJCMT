{
 "cells": [
  {
   "cell_type": "code",
   "execution_count": 1,
   "metadata": {
    "collapsed": true
   },
   "outputs": [],
   "source": [
    "from astropy.table import Table, Column, Row, MaskedColumn\n",
    "import random\n",
    "import time\n",
    "from datetime import date\n",
    "import calendar\n",
    "import numpy as np\n",
    "import matplotlib.pyplot as plt"
   ]
  },
  {
   "cell_type": "markdown",
   "metadata": {},
   "source": [
    "**Weather**\n",
    "\n",
    "First create a function to generate weaher bands for each night"
   ]
  },
  {
   "cell_type": "code",
   "execution_count": 2,
   "metadata": {
    "collapsed": true
   },
   "outputs": [],
   "source": [
    "def night_weather(d,m):\n",
    "    \"\"\"\n",
    "    produces an array of weather bands for a\n",
    "    number of LAP nights in a month \n",
    "    Also produces:\n",
    "    i) the expected % of band 1-closed nights #### NOT YET\n",
    "    ii) the model % of band 1-closed nights #### NOT YET\n",
    "    must be provided numberofdays (d) & month (m) \n",
    "    \n",
    "    \"\"\"\n",
    "\n",
    "    # Read in weather stats table \n",
    "    # it is probably is too basic a model but it is adequate for now, \n",
    "    # for now I can get a feel for scatter based on runnign the \"dry\" and \"wet\" tables\n",
    "\n",
    "    wdata = Table.read('data/weather-average.csv', format='csv')\n",
    "#     wdata = Table.read('data/weather-average-dry.csv', format='csv')\n",
    "#     wdata = Table.read('weather-average-wet.csv', format='csv')\n",
    "\n",
    "    Band6Percentage = Column(100-wdata['Band1Percentage']-wdata['Band2Percentage']-wdata['Band3Percentage']-wdata['Band4Percentage']-wdata['Band5Percentage'], name='Band6Percentage', format='.1f')\n",
    "    wdata.add_column(Band6Percentage)\n",
    "\n",
    "    # create dictionary for easy table access - months are not month values but rather positions in the table\n",
    "\n",
    "    dict = {'February': 0, 'March': 1, 'April': 2, 'May': 3, 'June': 4, 'July': 5, 'August': 6, 'September': 7, 'October': 8, 'November': 9, 'December': 10, 'January': 11}\n",
    "    \n",
    "    b1nights = round(d*wdata['Band1Percentage'][dict[m]]/100)\n",
    "    b2nights = round(d*wdata['Band2Percentage'][dict[m]]/100)\n",
    "    b3nights = round(d*wdata['Band3Percentage'][dict[m]]/100)\n",
    "    b4nights = round(d*wdata['Band4Percentage'][dict[m]]/100)\n",
    "    b5nights = round(d*wdata['Band5Percentage'][dict[m]]/100)\n",
    "    b6nights = round(d*wdata['Band6Percentage'][dict[m]]/100)\n",
    "\n",
    "    sdatabanddata  = []\n",
    "\n",
    "    for i in range(d):\n",
    "        if 0 <= i < b1nights:\n",
    "            sdatabanddata.append(1)\n",
    "        if b1nights <= i < (b1nights+b2nights):\n",
    "            sdatabanddata.append(2)\n",
    "        if (b1nights+b2nights) <= i < (b1nights+b2nights+b3nights):\n",
    "            sdatabanddata.append(3)\n",
    "        if (b1nights+b2nights+b3nights) <= i < (b1nights+b2nights+b3nights+b4nights):\n",
    "            sdatabanddata.append(4)\n",
    "        if (b1nights+b2nights+b3nights+b4nights) <= i < (b1nights+b2nights+b3nights+b4nights+b5nights):\n",
    "            sdatabanddata.append(5)\n",
    "        if (b1nights+b2nights+b3nights+b4nights+b5nights) <= i:\n",
    "            sdatabanddata.append(6)\n",
    "\n",
    "    #print (sdatabanddata,type(sdatabanddata))\n",
    "    rsdatabanddata = random.sample(sdatabanddata, len(sdatabanddata)) \n",
    "    #print (rsdatabanddata,type(rsdatabanddata))\n",
    "    \n",
    "    modelband1frac = sdatabanddata.count(1)/d\n",
    "    modelband2frac = sdatabanddata.count(2)/d\n",
    "    modelband3frac = sdatabanddata.count(3)/d\n",
    "    modelband4frac = sdatabanddata.count(4)/d\n",
    "    modelband5frac = sdatabanddata.count(5)/d\n",
    "    modelband6frac = sdatabanddata.count(6)/d\n",
    "    \n",
    "    \n",
    "    predictedbanddata = [wdata['Band1Percentage'][dict[month]],wdata['Band2Percentage'][dict[month]],wdata['Band3Percentage'][dict[month]],wdata['Band4Percentage'][dict[month]],wdata['Band5Percentage'][dict[month]],wdata['Band6Percentage'][dict[month]]]\n",
    "    \n",
    "    modelpredictedbanddata = [modelband1frac*100,modelband2frac*100,modelband3frac*100,modelband4frac*100,modelband5frac*100,modelband6frac*100]\n",
    "    \n",
    "    return rsdatabanddata,modelpredictedbanddata,predictedbanddata\n"
   ]
  },
  {
   "cell_type": "markdown",
   "metadata": {},
   "source": [
    "**Schedule**\n",
    "\n",
    "Load in my schedule file "
   ]
  },
  {
   "cell_type": "code",
   "execution_count": 3,
   "metadata": {
    "collapsed": true
   },
   "outputs": [],
   "source": [
    "# sdata = Table.read('data/18A_schedule.csv', format='csv') # schedule data - 18A\n",
    "sdata = Table.read('data/17B_schedule.csv', format='csv') # schedule data - 17B\n",
    "\n",
    "yearForTable = Column([int(x/10000) for x in sdata['Date']], name='Year')\n",
    "monthForTable = Column([calendar.month_name[ int(int(x-((int(x/10000))*10000))/100)] for x in sdata['Date']], name='Month')\n",
    "dayForTable = Column([x - (int(x/100)*100) for x in sdata['Date']], name='Day')\n",
    "\n",
    "sdata.add_column(yearForTable)\n",
    "sdata.add_column(monthForTable)\n",
    "sdata.add_column(dayForTable)\n",
    "\n",
    "#sdata"
   ]
  },
  {
   "cell_type": "markdown",
   "metadata": {},
   "source": [
    "Obtaines data when not PI time (PI in this example = UH and DDT and E&C)"
   ]
  },
  {
   "cell_type": "code",
   "execution_count": 4,
   "metadata": {
    "collapsed": true
   },
   "outputs": [],
   "source": [
    "PIdata =  sdata[sdata['Priority1']=='PI'] \n",
    "NotPI = sdata[sdata['Priority1']!='PI'] \n",
    "LAPsdata = NotPI[NotPI['Priority1']!='CLOSED']\n",
    "#print (LAPsdata)"
   ]
  },
  {
   "cell_type": "code",
   "execution_count": 5,
   "metadata": {
    "collapsed": true
   },
   "outputs": [],
   "source": [
    "# TEST Method::::\n",
    "# trying to get 'February','March' automatically\n",
    "\n",
    "# monthgroupstable = sdata.group_by('Month') # group_by method.\n",
    "# monthstoexamine = len(monthgroupstable.groups.keys)\n",
    "# print (monthgroupstable.groups.keys) #alphabetically ordered! huh - not ideal\n",
    "\n",
    "# for x in range(0,monthstoexamine,1):\n",
    "#     print (x)\n",
    "#     print (monthgroupstable.groups.keys[x])"
   ]
  },
  {
   "cell_type": "code",
   "execution_count": 9,
   "metadata": {},
   "outputs": [
    {
     "name": "stdout",
     "output_type": "stream",
     "text": [
      "\n",
      "Examining 14 nights alloacted in November \n",
      "\n",
      "allocated weather bands on each night : [3, 6, 2, 5, 4, 3, 1, 6, 3, 5, 4, 2, 4, 2]\n",
      "\n",
      "  Date   Priority1 Priority2 Year  Month   Day Weather\n",
      "-------- --------- --------- ---- -------- --- -------\n",
      "20171101  M16AL004  M17BL011 2017 November   1       3\n",
      "20171102  M16AL004  M17BL011 2017 November   2       6\n",
      "20171103  M16AL004  M17BL011 2017 November   3       2\n",
      "20171104  M16AL004  M17BL011 2017 November   4       5\n",
      "20171105  M17BL002        -- 2017 November   5       4\n",
      "20171106  M17BL002        -- 2017 November   6       3\n",
      "20171107  M17BL002        -- 2017 November   7       1\n",
      "20171108  M17BL002        -- 2017 November   8       6\n",
      "20171109  M17BL002        -- 2017 November   9       3\n",
      "20171121  M16AL006  M17BL009 2017 November  21       5\n",
      "20171122  M16AL006  M17BL009 2017 November  22       4\n",
      "20171123  M16AL006  M17BL009 2017 November  23       2\n",
      "20171124  M16AL006  M17BL009 2017 November  24       4\n",
      "20171125  M16AL006  M17BL009 2017 November  25       2\n"
     ]
    },
    {
     "data": {
      "image/png": "[encoded data removed]",
      "text/plain": [
       "<matplotlib.figure.Figure at 0x1189e2668>"
      ]
     },
     "metadata": {},
     "output_type": "display_data"
    },
    {
     "name": "stdout",
     "output_type": "stream",
     "text": [
      "from existing data: fraction of nights Band 1=5.7%, 2=23.3%, 3=19.9%, 4=23.7% 5=10.9% and closed 16.5%\n",
      "\n",
      "used in this program: fraction of nights Band 1=7.1%, 2=21.4%, 3=21.4%, 4=21.4% 5=14.3% and closed 14.3%\n",
      "\n"
     ]
    }
   ],
   "source": [
    "# CURRENT Method:::::\n",
    "# for now only look at one month\n",
    "\n",
    "allmodelpredictedbanddata = []\n",
    "allpredictedbanddata = []\n",
    "\n",
    "#monthlist = ('February','March','April','May','June','July') # I want to generate this automatically \n",
    "monthlist = ('November',) # even if running one month include , \n",
    "for x in monthlist:\n",
    "    month = x#'February'#'February'\n",
    "    MonthLAPSdata = LAPsdata[LAPsdata['Month']==month] #### here is when we seperate by month....\n",
    "    numberofdays = (len(MonthLAPSdata))\n",
    "    print (\"\\nExamining {} nights alloacted in {} \\n\".format(numberofdays,month))\n",
    "\n",
    "    rsdatabanddata = night_weather(numberofdays,month)[0]\n",
    "    modelpredictedbanddata = night_weather(numberofdays,month)[1]\n",
    "    predictedbanddata = night_weather(numberofdays,month)[2]\n",
    "\n",
    "    print (\"allocated weather bands on each night : {}\\n\".format(rsdatabanddata))\n",
    "\n",
    "    \n",
    "    weatherForTable = Column([rsdatabanddata[x] for x in range(numberofdays)], name='Weather')\n",
    "    MonthLAPSdata.add_column(weatherForTable) # error if run multiple \n",
    "    print (MonthLAPSdata)\n",
    "    \n",
    "    #Plot histogram of days:\n",
    "    plt.figure()\n",
    "    plt.hist(MonthLAPSdata['Weather'], bins=[1,2,3,4,5,6], label='default', edgecolor='white', facecolor='orange', alpha=0.8, normed=1)\n",
    "    plt.show()\n",
    "\n",
    "    #print (predictedbanddata)\n",
    "    #print (modelpredictedbanddata)\n",
    "    print (\"from existing data: fraction of nights Band 1={:.1f}%, 2={:.1f}%, 3={:.1f}%, 4={:.1f}% 5={:.1f}% and closed {:.1f}%\\n\".format(predictedbanddata[0],predictedbanddata[1],predictedbanddata[2],predictedbanddata[3],predictedbanddata[4],predictedbanddata[5]))\n",
    "    print (\"used in this program: fraction of nights Band 1={:.1f}%, 2={:.1f}%, 3={:.1f}%, 4={:.1f}% 5={:.1f}% and closed {:.1f}%\\n\".format(modelpredictedbanddata[0],modelpredictedbanddata[1],modelpredictedbanddata[2],modelpredictedbanddata[3],modelpredictedbanddata[4],modelpredictedbanddata[5]))\n",
    "    allmodelpredictedbanddata.append(modelpredictedbanddata)\n",
    "    allpredictedbanddata.append(predictedbanddata)\n",
    "    "
   ]
  },
  {
   "cell_type": "markdown",
   "metadata": {},
   "source": [
    "**Targets**\n",
    "\n",
    "Load in the file containing targets "
   ]
  },
  {
   "cell_type": "code",
   "execution_count": null,
   "metadata": {
    "collapsed": true
   },
   "outputs": [],
   "source": [
    "can I query from the OMP MSBs reamining in the queue and "
   ]
  },
  {
   "cell_type": "markdown",
   "metadata": {},
   "source": [
    "** Priorities **\n",
    "\n",
    "On the whole all programs retain their \"standard\" priority. \n",
    "\n",
    "However the program at the telescope - as indicated by Priority1 and Priority2 - get bumped up to top priority\n",
    "\n",
    "Maybe best to \"rank\" all programs and then simply bump up those on the telesocpe to 1 & 2. \n"
   ]
  },
  {
   "cell_type": "code",
   "execution_count": 10,
   "metadata": {
    "collapsed": true
   },
   "outputs": [],
   "source": [
    "dict = {'prioritym16al001': 3,'prioritym16al002': 4,'prioritym16al003': 5,'prioritym16al004': 6,\n",
    "        'prioritym16al005': 7,'prioritym16al006': 8,'prioritym16al007': 9,'prioritym17al005': 10,\n",
    "        'prioritym17al011': 11,'prioritym17al009': 12,'prioritym17al004': 13,'prioritym17al002': 14,\n",
    "        'prioritym17al001': 15,'prioritym17al010': 16,'prioritym17al006': 17,'prioritym17al007': 18}"
   ]
  },
  {
   "cell_type": "code",
   "execution_count": null,
   "metadata": {
    "collapsed": true
   },
   "outputs": [],
   "source": []
  },
  {
   "cell_type": "code",
   "execution_count": null,
   "metadata": {
    "collapsed": true
   },
   "outputs": [],
   "source": []
  },
  {
   "cell_type": "code",
   "execution_count": null,
   "metadata": {
    "collapsed": true
   },
   "outputs": [],
   "source": []
  },
  {
   "cell_type": "code",
   "execution_count": null,
   "metadata": {
    "collapsed": true
   },
   "outputs": [],
   "source": []
  },
  {
   "cell_type": "code",
   "execution_count": null,
   "metadata": {
    "collapsed": true
   },
   "outputs": [],
   "source": []
  },
  {
   "cell_type": "code",
   "execution_count": null,
   "metadata": {
    "collapsed": true
   },
   "outputs": [],
   "source": []
  },
  {
   "cell_type": "code",
   "execution_count": null,
   "metadata": {
    "collapsed": true
   },
   "outputs": [],
   "source": []
  },
  {
   "cell_type": "code",
   "execution_count": null,
   "metadata": {
    "collapsed": true
   },
   "outputs": [],
   "source": []
  },
  {
   "cell_type": "code",
   "execution_count": null,
   "metadata": {
    "collapsed": true
   },
   "outputs": [],
   "source": []
  },
  {
   "cell_type": "code",
   "execution_count": null,
   "metadata": {
    "collapsed": true
   },
   "outputs": [],
   "source": []
  },
  {
   "cell_type": "code",
   "execution_count": null,
   "metadata": {
    "collapsed": true
   },
   "outputs": [],
   "source": []
  },
  {
   "cell_type": "code",
   "execution_count": null,
   "metadata": {
    "collapsed": true
   },
   "outputs": [],
   "source": []
  },
  {
   "cell_type": "code",
   "execution_count": null,
   "metadata": {
    "collapsed": true
   },
   "outputs": [],
   "source": []
  },
  {
   "cell_type": "markdown",
   "metadata": {},
   "source": [
    "I run your new file through and here are the results/comments: \n",
    "\n",
    "1) I need more than one dummy observation per 2h interval. I have added now \n",
    "5 per each hour between 0 and 23. \n",
    "\n",
    "2) I gave the dummy observations a band=8 (twice as bad as the lowest), which \n",
    "make the plot look a bit nicer. \n",
    "\n",
    "3) If easily done on your side it would be nice to add a column at the end \n",
    "giving the observation an ID starting from 0. This makes it easier to identify them \n",
    "as the plots only have numbers in. \n",
    "\n",
    "4) Attached the 'best' (== lowest combined science band) schedule \n",
    "\n",
    "Despite running it for a long time, it was not able to come up with a version\n",
    "where the dark green ID0 is scheduled closer to the transit :-( Not quite sure \n",
    "how to sort this one. \n",
    "\n",
    "Ditto for the ID77 which is scheduled inbetween the COSMOS fields. I think there\n",
    "is no more (time) space to add another of these thats why a dummy was picked, but \n",
    "since band and AM are treated completely separate, there is no obvious way for the\n",
    "code to 'see' that pushing the red ones to the right and adding a grey one at the start \n",
    "is better. \n",
    "\n",
    "5) Here is the list of targets which are excluded (without dummies): \n",
    "\n",
    "...\n",
    "\n",
    "There is currently no easy way to get this out, since the obsPool \n",
    "is currently detached from the schedule, but I am working on \n",
    "changing this. \n",
    "\n",
    "Please let me know if you need anything else, or  have it run for \n",
    "another night, or for multiple nights.  "
   ]
  },
  {
   "cell_type": "code",
   "execution_count": null,
   "metadata": {
    "collapsed": true
   },
   "outputs": [],
   "source": []
  },
  {
   "cell_type": "code",
   "execution_count": null,
   "metadata": {
    "collapsed": true
   },
   "outputs": [],
   "source": []
  },
  {
   "cell_type": "code",
   "execution_count": null,
   "metadata": {
    "collapsed": true
   },
   "outputs": [],
   "source": []
  },
  {
   "cell_type": "code",
   "execution_count": null,
   "metadata": {
    "collapsed": true
   },
   "outputs": [],
   "source": []
  },
  {
   "cell_type": "code",
   "execution_count": null,
   "metadata": {
    "collapsed": true
   },
   "outputs": [],
   "source": []
  },
  {
   "cell_type": "code",
   "execution_count": null,
   "metadata": {
    "collapsed": true
   },
   "outputs": [],
   "source": []
  },
  {
   "cell_type": "code",
   "execution_count": null,
   "metadata": {
    "collapsed": true
   },
   "outputs": [],
   "source": []
  },
  {
   "cell_type": "code",
   "execution_count": null,
   "metadata": {
    "collapsed": true
   },
   "outputs": [],
   "source": []
  },
  {
   "cell_type": "code",
   "execution_count": null,
   "metadata": {
    "collapsed": true
   },
   "outputs": [],
   "source": []
  }
 ],
 "metadata": {
  "kernelspec": {
   "display_name": "Python 3",
   "language": "python",
   "name": "python3"
  },
  "language_info": {
   "codemirror_mode": {
    "name": "ipython",
    "version": 3
   },
   "file_extension": ".py",
   "mimetype": "text/x-python",
   "name": "python",
   "nbconvert_exporter": "python",
   "pygments_lexer": "ipython3",
   "version": "3.6.1"
  }
 },
 "nbformat": 4,
 "nbformat_minor": 2
}
