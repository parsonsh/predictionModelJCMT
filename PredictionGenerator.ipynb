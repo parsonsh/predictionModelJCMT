{
 "cells": [
  {
   "cell_type": "code",
   "execution_count": 1,
   "metadata": {
    "collapsed": true
   },
   "outputs": [],
   "source": [
    "from astropy.table import Table, Column, Row\n",
    "import random\n",
    "import time\n",
    "from datetime import date\n",
    "import calendar\n",
    "import numpy as np\n",
    "import matplotlib.pyplot as plt"
   ]
  },
  {
   "cell_type": "markdown",
   "metadata": {},
   "source": [
    "First I read in my weather stats table as provided by Jess"
   ]
  },
  {
   "cell_type": "code",
   "execution_count": 2,
   "metadata": {},
   "outputs": [],
   "source": [
    "wdata = Table.read('data/weather-average.csv', format='csv')\n",
    "\n",
    "# wdata = Table.read('data/weather-average-dry.csv', format='csv')\n",
    "# wdata = Table.read('weather-average-wet.csv', format='csv')"
   ]
  },
  {
   "cell_type": "markdown",
   "metadata": {},
   "source": [
    "I then make new columns containing the cumulative fraction of time in each weather band (for use later). "
   ]
  },
  {
   "cell_type": "code",
   "execution_count": 3,
   "metadata": {},
   "outputs": [],
   "source": [
    "CumulativeBand1 = Column(wdata['Band1Percentage'], name='CumulativeBand1', format='.1f')\n",
    "wdata.add_column(CumulativeBand1)\n",
    "CumulativeBand2 = Column([x['CumulativeBand1']+x['Band2Percentage'] for x in wdata], name='CumulativeBand2', format='.1f')\n",
    "wdata.add_column(CumulativeBand2)\n",
    "CumulativeBand3 = Column([x['CumulativeBand2']+x['Band3Percentage'] for x in wdata], name='CumulativeBand3', format='.1f')\n",
    "wdata.add_column(CumulativeBand3)\n",
    "CumulativeBand4 = Column([x['CumulativeBand3']+x['Band4Percentage'] for x in wdata], name='CumulativeBand4', format='.1f')\n",
    "wdata.add_column(CumulativeBand4)\n",
    "CumulativeBand5 = Column([x['CumulativeBand4']+x['Band5Percentage'] for x in wdata], name='CumulativeBand5', format='.1f')\n",
    "wdata.add_column(CumulativeBand5)"
   ]
  },
  {
   "cell_type": "code",
   "execution_count": 4,
   "metadata": {},
   "outputs": [
    {
     "data": {
      "text/html": [
       "&lt;Table length=12&gt;\n",
       "<table id=\"table4690009280\" class=\"table-striped table-bordered table-condensed\">\n",
       "<thead><tr><th>Month</th><th>Band1Percentage</th><th>Band2Percentage</th><th>Band3Percentage</th><th>Band4Percentage</th><th>Band5Percentage</th><th>CumulativeBand1</th><th>CumulativeBand2</th><th>CumulativeBand3</th><th>CumulativeBand4</th><th>CumulativeBand5</th></tr></thead>\n",
       "<thead><tr><th>str9</th><th>float64</th><th>float64</th><th>float64</th><th>float64</th><th>float64</th><th>float64</th><th>float64</th><th>float64</th><th>float64</th><th>float64</th></tr></thead>\n",
       "<tr><td>February</td><td>15.7</td><td>23.3</td><td>16.0</td><td>20.7</td><td>17.8</td><td>15.7</td><td>39.0</td><td>55.0</td><td>75.7</td><td>93.5</td></tr>\n",
       "<tr><td>March</td><td>23.5</td><td>23.1</td><td>15.8</td><td>21.0</td><td>8.8</td><td>23.5</td><td>46.6</td><td>62.4</td><td>83.4</td><td>92.2</td></tr>\n",
       "<tr><td>April</td><td>16.2</td><td>20.0</td><td>25.2</td><td>19.4</td><td>12.4</td><td>16.2</td><td>36.2</td><td>61.4</td><td>80.8</td><td>93.2</td></tr>\n",
       "<tr><td>May</td><td>10.6</td><td>30.4</td><td>27.8</td><td>21.2</td><td>7.8</td><td>10.6</td><td>41.0</td><td>68.8</td><td>90.0</td><td>97.8</td></tr>\n",
       "<tr><td>June</td><td>6.2</td><td>28.6</td><td>30.3</td><td>25.6</td><td>7.1</td><td>6.2</td><td>34.8</td><td>65.1</td><td>90.7</td><td>97.8</td></tr>\n",
       "<tr><td>July</td><td>3.2</td><td>27.6</td><td>32.3</td><td>22.2</td><td>9.2</td><td>3.2</td><td>30.8</td><td>63.1</td><td>85.3</td><td>94.5</td></tr>\n",
       "<tr><td>August</td><td>6.9</td><td>27.6</td><td>27.7</td><td>15.7</td><td>12.9</td><td>6.9</td><td>34.5</td><td>62.2</td><td>77.9</td><td>90.8</td></tr>\n",
       "<tr><td>September</td><td>1.4</td><td>34.7</td><td>34.6</td><td>16.6</td><td>5.2</td><td>1.4</td><td>36.1</td><td>70.7</td><td>87.3</td><td>92.5</td></tr>\n",
       "<tr><td>October</td><td>5.5</td><td>14.8</td><td>29.1</td><td>28.2</td><td>12.9</td><td>5.5</td><td>20.3</td><td>49.4</td><td>77.6</td><td>90.5</td></tr>\n",
       "<tr><td>November</td><td>5.7</td><td>23.3</td><td>19.9</td><td>23.7</td><td>10.9</td><td>5.7</td><td>29.0</td><td>48.9</td><td>72.6</td><td>83.5</td></tr>\n",
       "<tr><td>December</td><td>17.1</td><td>24.9</td><td>21.2</td><td>17.6</td><td>8.8</td><td>17.1</td><td>42.0</td><td>63.2</td><td>80.8</td><td>89.6</td></tr>\n",
       "<tr><td>January</td><td>17.1</td><td>30.4</td><td>23.1</td><td>15.7</td><td>9.2</td><td>17.1</td><td>47.5</td><td>70.6</td><td>86.3</td><td>95.5</td></tr>\n",
       "</table>"
      ],
      "text/plain": [
       "<Table length=12>\n",
       "  Month   Band1Percentage Band2Percentage ... CumulativeBand4 CumulativeBand5\n",
       "   str9       float64         float64     ...     float64         float64    \n",
       "--------- --------------- --------------- ... --------------- ---------------\n",
       " February            15.7            23.3 ...            75.7            93.5\n",
       "    March            23.5            23.1 ...            83.4            92.2\n",
       "    April            16.2            20.0 ...            80.8            93.2\n",
       "      May            10.6            30.4 ...            90.0            97.8\n",
       "     June             6.2            28.6 ...            90.7            97.8\n",
       "     July             3.2            27.6 ...            85.3            94.5\n",
       "   August             6.9            27.6 ...            77.9            90.8\n",
       "September             1.4            34.7 ...            87.3            92.5\n",
       "  October             5.5            14.8 ...            77.6            90.5\n",
       " November             5.7            23.3 ...            72.6            83.5\n",
       " December            17.1            24.9 ...            80.8            89.6\n",
       "  January            17.1            30.4 ...            86.3            95.5"
      ]
     },
     "execution_count": 4,
     "metadata": {},
     "output_type": "execute_result"
    }
   ],
   "source": [
    "wdata"
   ]
  },
  {
   "cell_type": "markdown",
   "metadata": {},
   "source": [
    "I define a loook up dictionary for easy table access - months are not month values but rather positions in the table\n"
   ]
  },
  {
   "cell_type": "code",
   "execution_count": 5,
   "metadata": {},
   "outputs": [],
   "source": [
    "dict = {'February': 0, 'March': 1, 'April': 2, 'May': 3, 'June': 4, 'July': 5, 'August': 6, 'September': 7, 'October': 8, 'November': 9, 'December': 10, 'January': 11}"
   ]
  },
  {
   "cell_type": "markdown",
   "metadata": {},
   "source": [
    "Now I need to load in my schedule file from this it will detemrine the month and number of days I need to predict for"
   ]
  },
  {
   "cell_type": "code",
   "execution_count": 37,
   "metadata": {},
   "outputs": [
    {
     "data": {
      "text/html": [
       "&lt;Table masked=True length=19&gt;\n",
       "<table id=\"table4574596008\" class=\"table-striped table-bordered table-condensed\">\n",
       "<thead><tr><th>Date</th><th>Priority1</th><th>Priority2</th><th>Year</th><th>Month</th><th>Day</th></tr></thead>\n",
       "<thead><tr><th>int64</th><th>str8</th><th>str8</th><th>int64</th><th>str8</th><th>int64</th></tr></thead>\n",
       "<tr><td>20180302</td><td>M16AL006</td><td>M17BL009</td><td>2018</td><td>March</td><td>2</td></tr>\n",
       "<tr><td>20180303</td><td>M16AL006</td><td>M17BL009</td><td>2018</td><td>March</td><td>3</td></tr>\n",
       "<tr><td>20180304</td><td>M16AL006</td><td>M17BL009</td><td>2018</td><td>March</td><td>4</td></tr>\n",
       "<tr><td>20180305</td><td>M16AL006</td><td>M17BL009</td><td>2018</td><td>March</td><td>5</td></tr>\n",
       "<tr><td>20180309</td><td>M17BL002</td><td>--</td><td>2018</td><td>March</td><td>9</td></tr>\n",
       "<tr><td>20180310</td><td>M17BL002</td><td>--</td><td>2018</td><td>March</td><td>10</td></tr>\n",
       "<tr><td>20180311</td><td>M17BL002</td><td>--</td><td>2018</td><td>March</td><td>11</td></tr>\n",
       "<tr><td>20180312</td><td>M17BL002</td><td>--</td><td>2018</td><td>March</td><td>12</td></tr>\n",
       "<tr><td>20180313</td><td>M17BL002</td><td>--</td><td>2018</td><td>March</td><td>13</td></tr>\n",
       "<tr><td>20180314</td><td>M16AL001</td><td>--</td><td>2018</td><td>March</td><td>14</td></tr>\n",
       "<tr><td>20180315</td><td>M16AL001</td><td>--</td><td>2018</td><td>March</td><td>15</td></tr>\n",
       "<tr><td>20180316</td><td>M16AL001</td><td>--</td><td>2018</td><td>March</td><td>16</td></tr>\n",
       "<tr><td>20180317</td><td>M16AL001</td><td>--</td><td>2018</td><td>March</td><td>17</td></tr>\n",
       "<tr><td>20180318</td><td>M16AL001</td><td>--</td><td>2018</td><td>March</td><td>18</td></tr>\n",
       "<tr><td>20180323</td><td>M16AL004</td><td>M17BL011</td><td>2018</td><td>March</td><td>23</td></tr>\n",
       "<tr><td>20180324</td><td>M16AL004</td><td>M17BL011</td><td>2018</td><td>March</td><td>24</td></tr>\n",
       "<tr><td>20180325</td><td>M16AL004</td><td>M17BL011</td><td>2018</td><td>March</td><td>25</td></tr>\n",
       "<tr><td>20180326</td><td>M16AL004</td><td>M17BL011</td><td>2018</td><td>March</td><td>26</td></tr>\n",
       "<tr><td>20180327</td><td>M16AL004</td><td>M17BL011</td><td>2018</td><td>March</td><td>27</td></tr>\n",
       "</table>"
      ],
      "text/plain": [
       "<Table masked=True length=19>\n",
       "  Date   Priority1 Priority2  Year Month  Day \n",
       " int64      str8      str8   int64  str8 int64\n",
       "-------- --------- --------- ----- ----- -----\n",
       "20180302  M16AL006  M17BL009  2018 March     2\n",
       "20180303  M16AL006  M17BL009  2018 March     3\n",
       "20180304  M16AL006  M17BL009  2018 March     4\n",
       "20180305  M16AL006  M17BL009  2018 March     5\n",
       "20180309  M17BL002        --  2018 March     9\n",
       "20180310  M17BL002        --  2018 March    10\n",
       "20180311  M17BL002        --  2018 March    11\n",
       "20180312  M17BL002        --  2018 March    12\n",
       "20180313  M17BL002        --  2018 March    13\n",
       "20180314  M16AL001        --  2018 March    14\n",
       "20180315  M16AL001        --  2018 March    15\n",
       "20180316  M16AL001        --  2018 March    16\n",
       "20180317  M16AL001        --  2018 March    17\n",
       "20180318  M16AL001        --  2018 March    18\n",
       "20180323  M16AL004  M17BL011  2018 March    23\n",
       "20180324  M16AL004  M17BL011  2018 March    24\n",
       "20180325  M16AL004  M17BL011  2018 March    25\n",
       "20180326  M16AL004  M17BL011  2018 March    26\n",
       "20180327  M16AL004  M17BL011  2018 March    27"
      ]
     },
     "execution_count": 37,
     "metadata": {},
     "output_type": "execute_result"
    }
   ],
   "source": [
    "# need to supply table with list of dates on which we will observe - \n",
    "# from this table my code needs to know month and number of days - to allocated a weather band for the night\n",
    "# the UT date and weather bad is then needed as input into Michael Polhen's code\n",
    "\n",
    "sdata = Table.read('data/18A_schedule.csv', format='csv')\n",
    "\n",
    "# splitting up YYYYMMDD into YYYY MM DD\n",
    "yearForTable = Column([int(x/10000) for x in sdata['Date']], name='Year')\n",
    "monthForTable = Column([calendar.month_name[ int(int(x-((int(x/10000))*10000))/100)] for x in sdata['Date']], name='Month')\n",
    "dayForTable = Column([x - (int(x/100)*100) for x in sdata['Date']], name='Day')\n",
    "sdata.add_column(yearForTable)\n",
    "sdata.add_column(monthForTable)\n",
    "sdata.add_column(dayForTable)\n",
    "\n",
    "# obtaines data when not PI time (PI = UH and DDT and E&C)\n",
    "\n",
    "LAPsdata = sdata[sdata['Priority1']!='PI'] \n",
    "\n",
    "# for now only look at one month\n",
    "\n",
    "month = 'March' #### CHANGE\n",
    "\n",
    "MonthLAPSdata = LAPsdata[LAPsdata['Month']==month]\n",
    "\n",
    "numberofdays = (len(MonthLAPSdata))\n",
    "\n",
    "MonthLAPSdata"
   ]
  },
  {
   "cell_type": "code",
   "execution_count": 38,
   "metadata": {},
   "outputs": [
    {
     "name": "stdout",
     "output_type": "stream",
     "text": [
      "Examining 19 nights alloacted in March \n",
      "\n",
      "fraction of nights Band 1=23.5%, 2=23.1%, 3=15.8%, 4=21.0% and 5=8.8%\n",
      "\n"
     ]
    }
   ],
   "source": [
    "print (\"Examining {} nights alloacted in {} \\n\".format(numberofdays,month))\n",
    "print ((\"fraction of nights Band 1={}%, 2={}%, 3={}%, 4={}% and 5={}%\\n\".format(wdata['Band1Percentage'][dict[month]],wdata['Band2Percentage'][dict[month]],wdata['Band3Percentage'][dict[month]],wdata['Band4Percentage'][dict[month]],wdata['Band5Percentage'][dict[month]])))\n"
   ]
  },
  {
   "cell_type": "code",
   "execution_count": 62,
   "metadata": {},
   "outputs": [
    {
     "name": "stdout",
     "output_type": "stream",
     "text": [
      "[1, 1, 1, 1, 2, 2, 2, 2, 3, 3, 3, 4, 4, 4, 4, 5, 5, 6, 6] <class 'list'>\n",
      "[1 1 1 1 2 2 2 2 3 3 3 4 4 4 4 5 5 6 6] <class 'numpy.ndarray'>\n",
      "None\n",
      "None\n"
     ]
    }
   ],
   "source": [
    "# keeping it simple - allocating an entire night to one weather band\n",
    "# ut doing a crappy job - issue is with small number of nights\n",
    "\n",
    "b1nights = round(numberofdays*wdata['Band1Percentage'][dict[month]]/100,)\n",
    "b2nights = round(numberofdays*wdata['Band2Percentage'][dict[month]]/100)\n",
    "b3nights = round(numberofdays*wdata['Band3Percentage'][dict[month]]/100)\n",
    "b4nights = round(numberofdays*wdata['Band4Percentage'][dict[month]]/100)\n",
    "b5nights = round(numberofdays*wdata['Band5Percentage'][dict[month]]/100)\n",
    "b6nights = round(numberofdays*(100-wdata['CumulativeBand5'][dict[month]])/100)\n",
    "\n",
    "#print((numberofdays*(100-wdata['CumulativeBand5'][dict[month]])/100))\n",
    "\n",
    "#print (b1nights,b2nights,b3nights,b4nights,b5nights,b6nights)\n",
    "\n",
    "sdatabanddata  = []\n",
    "\n",
    "for i in range(numberofdays):\n",
    "#     print(i)\n",
    "    if 0 <= i < b1nights:\n",
    "#         print (\"band 1\")\n",
    "        sdatabanddata.append(1)\n",
    "    if b1nights <= i < (b1nights+b2nights):\n",
    "#         print (\"band 2\")\n",
    "        sdatabanddata.append(2)\n",
    "    if (b1nights+b2nights) <= i < (b1nights+b2nights+b3nights):\n",
    "#         print (\"band 3\")\n",
    "        sdatabanddata.append(3)\n",
    "    if (b1nights+b2nights+b3nights) <= i < (b1nights+b2nights+b3nights+b4nights):\n",
    "#         print (\"band 4\")\n",
    "        sdatabanddata.append(4)\n",
    "    if (b1nights+b2nights+b3nights+b4nights) <= i < (b1nights+b2nights+b3nights+b4nights+b5nights):\n",
    "#         print (\"band 5\")\n",
    "        sdatabanddata.append(5)\n",
    "    if (b1nights+b2nights+b3nights+b4nights+b5nights) <= i:\n",
    "#         print (\"closed\")\n",
    "        sdatabanddata.append(6)\n",
    "\n",
    "print (sdatabanddata,type(sdatabanddata))\n",
    "myarray = np.asarray(sdatabanddata)\n",
    "print (myarray,type(myarray))\n",
    "\n",
    "print (random.shuffle(sdatabanddata))\n",
    "print (random.shuffle(myarray))"
   ]
  },
  {
   "cell_type": "code",
   "execution_count": null,
   "metadata": {
    "collapsed": true
   },
   "outputs": [],
   "source": []
  },
  {
   "cell_type": "code",
   "execution_count": null,
   "metadata": {
    "collapsed": true
   },
   "outputs": [],
   "source": []
  },
  {
   "cell_type": "code",
   "execution_count": null,
   "metadata": {
    "collapsed": true
   },
   "outputs": [],
   "source": []
  },
  {
   "cell_type": "code",
   "execution_count": null,
   "metadata": {
    "collapsed": true
   },
   "outputs": [],
   "source": []
  },
  {
   "cell_type": "code",
   "execution_count": null,
   "metadata": {
    "collapsed": true
   },
   "outputs": [],
   "source": []
  },
  {
   "cell_type": "code",
   "execution_count": null,
   "metadata": {
    "collapsed": true
   },
   "outputs": [],
   "source": []
  },
  {
   "cell_type": "markdown",
   "metadata": {
    "collapsed": true
   },
   "source": [
    "I then generate random numbers from 0-100 for the number of days dedicate to LAP programs in my month and use the \"cumulative fraction of weather\" stats to allocated an entire night to a weather band"
   ]
  },
  {
   "cell_type": "code",
   "execution_count": 17,
   "metadata": {},
   "outputs": [
    {
     "name": "stdout",
     "output_type": "stream",
     "text": [
      "Examining 14 nights alloacted in February \n",
      "\n",
      "fraction of nights Band 1=15.7%, 2=23.3%, 3=16.0%, 4=20.7% and 5=17.8%\n",
      "\n",
      "cumulative nights Band 1=15.7%, 1-2=39.0%, 1-3=55.0%, 1-4=75.7% and 1-5=93.5%\n",
      "\n",
      "0.15182857142857142\n",
      "0.24171428571428571\n",
      "0.16129285714285715\n",
      "0.20086428571428572\n",
      "0.18273571428571428\n",
      "0.06156428571428572\n"
     ]
    }
   ],
   "source": [
    "\n",
    "print ((\"cumulative nights Band 1={}%, 1-2={}%, 1-3={}%, 1-4={}% and 1-5={}%\\n\".format(wdata['CumulativeBand1'][dict[month]],wdata['CumulativeBand2'][dict[month]],wdata['CumulativeBand3'][dict[month]],wdata['CumulativeBand4'][dict[month]],wdata['CumulativeBand5'][dict[month]])))\n",
    "\n",
    "\n",
    "b1 = 0 # counter for number of days in band 1\n",
    "b2 = 0\n",
    "b3 = 0\n",
    "b4 = 0\n",
    "b5 = 0\n",
    "b6 = 0\n",
    "sdatabanddata  = ([])\n",
    "randomweatherdata = ([])\n",
    "for i in range(0,10000):\n",
    "\n",
    "    randomweather = random.sample(range(1, 100),numberofdays)\n",
    "\n",
    "    for x in randomweather:\n",
    "        #print (x)\n",
    "        randomweatherdata.append(x)\n",
    "        if x <= wdata['CumulativeBand1'][dict[month]]:\n",
    "            #print (\"Band 1 night\")\n",
    "            b1 += 1\n",
    "            sdatabanddata.append(1)\n",
    "        if wdata['CumulativeBand1'][dict[month]] < x <= wdata['CumulativeBand2'][dict[month]]: \n",
    "            #print (\"Band 2 night\")\n",
    "            b2 += 1\n",
    "            sdatabanddata.append(2)\n",
    "        if wdata['CumulativeBand2'][dict[month]] < x <= wdata['CumulativeBand3'][dict[month]]:  \n",
    "            #print (\"Band 3 night\")\n",
    "            b3 += 1\n",
    "            sdatabanddata.append(3)\n",
    "        if wdata['CumulativeBand3'][dict[month]] < x <= wdata['CumulativeBand4'][dict[month]]:  \n",
    "            #print (\"Band 4 night\")\n",
    "            b4 += 1\n",
    "            sdatabanddata.append(4)\n",
    "        if wdata['CumulativeBand4'][dict[month]] < x <= wdata['CumulativeBand5'][dict[month]]: \n",
    "            #print (\"Band 5 night\")\n",
    "            b5 += 1\n",
    "            sdatabanddata.append(5)\n",
    "        if x >= wdata['CumulativeBand5'][dict[month]]:\n",
    "            #print (\"Closed\")\n",
    "            b6 += 1\n",
    "            sdatabanddata.append(6)\n",
    "            \n",
    "    #print (\"\\nfraction output 1={:.2f}%, 2={:.2f}%, 3={:.2f}%, 4={:.2f}% and 5={:.2f}% (closed {:.2f}%)\".format(b1/numberofdays*100,b2/numberofdays*100,b3/numberofdays*100,b4/numberofdays*100,b5/numberofdays*100,b6/numberofdays*100))\n",
    "\n",
    "#print (sdatabanddata)\n",
    "print (sdatabanddata.count(1)/len(sdatabanddata))\n",
    "print (sdatabanddata.count(2)/len(sdatabanddata))\n",
    "print (sdatabanddata.count(3)/len(sdatabanddata))\n",
    "print (sdatabanddata.count(4)/len(sdatabanddata))\n",
    "print (sdatabanddata.count(5)/len(sdatabanddata))\n",
    "print (sdatabanddata.count(6)/len(sdatabanddata))\n"
   ]
  },
  {
   "cell_type": "code",
   "execution_count": null,
   "metadata": {},
   "outputs": [],
   "source": [
    "plt.hist(sdatabanddata, bins=[1,2,3,4,5,6,7], edgecolor='white', facecolor='orange', alpha=0.8, normed=True)\n",
    "plt.axhline(sdatabanddata.count(1)/len(sdatabanddata), color='blue', linestyle='dashed', linewidth=1)\n",
    "plt.axhline(sdatabanddata.count(2)/len(sdatabanddata), color='gray', linestyle='dashed', linewidth=1)\n",
    "plt.axhline(sdatabanddata.count(3)/len(sdatabanddata), color='gray', linestyle='dashed', linewidth=1)\n",
    "plt.axhline(sdatabanddata.count(4)/len(sdatabanddata), color='gray', linestyle='dashed', linewidth=1)\n",
    "plt.axhline(sdatabanddata.count(5)/len(sdatabanddata), color='gray', linestyle='dashed', linewidth=1)\n",
    "plt.axhline(sdatabanddata.count(6)/len(sdatabanddata), color='green', linestyle='dashed', linewidth=1)\n",
    "plt.show()\n",
    "\n",
    "print ((wdata['Band1Percentage'][dict[month]]/100),(wdata['Band2Percentage'][dict[month]]/100))\n",
    "#print (sdatabanddata)\n"
   ]
  },
  {
   "cell_type": "code",
   "execution_count": null,
   "metadata": {},
   "outputs": [],
   "source": [
    "plt.hist(randomweatherdata, edgecolor='white', facecolor='orange', alpha=0.8, normed=1)\n",
    "plt.axvline((wdata['CumulativeBand1'][dict[month]]), color='gray', linestyle='dashed', linewidth=1)\n",
    "plt.axvline((wdata['CumulativeBand2'][dict[month]]), color='gray', linestyle='dashed', linewidth=1)\n",
    "plt.axvline((wdata['CumulativeBand3'][dict[month]]), color='gray', linestyle='dashed', linewidth=1)\n",
    "plt.axvline((wdata['CumulativeBand4'][dict[month]]), color='gray', linestyle='dashed', linewidth=1)\n",
    "plt.axvline((wdata['CumulativeBand5'][dict[month]]), color='gray', linestyle='dashed', linewidth=1)\n",
    "plt.show()"
   ]
  },
  {
   "cell_type": "code",
   "execution_count": null,
   "metadata": {},
   "outputs": [],
   "source": [
    "#sdatabanddata.T\n",
    "#print (sdatabanddata.T)\n",
    "#banddata = Column(sdatabanddata, name='WeatherBand')\n",
    "#sdata.add_column(banddata)\n"
   ]
  },
  {
   "cell_type": "markdown",
   "metadata": {},
   "source": [
    "In essence I then need to calculate how many night in a month are in each weatherbands and run Michael's code on the relevent "
   ]
  },
  {
   "cell_type": "code",
   "execution_count": null,
   "metadata": {
    "collapsed": true
   },
   "outputs": [],
   "source": []
  },
  {
   "cell_type": "code",
   "execution_count": null,
   "metadata": {
    "collapsed": true
   },
   "outputs": [],
   "source": []
  },
  {
   "cell_type": "code",
   "execution_count": null,
   "metadata": {},
   "outputs": [],
   "source": []
  },
  {
   "cell_type": "code",
   "execution_count": null,
   "metadata": {},
   "outputs": [],
   "source": []
  },
  {
   "cell_type": "code",
   "execution_count": null,
   "metadata": {},
   "outputs": [],
   "source": []
  },
  {
   "cell_type": "code",
   "execution_count": null,
   "metadata": {
    "collapsed": true
   },
   "outputs": [],
   "source": []
  }
 ],
 "metadata": {
  "kernelspec": {
   "display_name": "Python 3",
   "language": "python",
   "name": "python3"
  },
  "language_info": {
   "codemirror_mode": {
    "name": "ipython",
    "version": 3
   },
   "file_extension": ".py",
   "mimetype": "text/x-python",
   "name": "python",
   "nbconvert_exporter": "python",
   "pygments_lexer": "ipython3",
   "version": "3.6.1"
  }
 },
 "nbformat": 4,
 "nbformat_minor": 2
}
