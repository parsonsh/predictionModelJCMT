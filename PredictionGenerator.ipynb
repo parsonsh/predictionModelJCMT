{
 "cells": [
  {
   "cell_type": "code",
   "execution_count": 53,
   "metadata": {
    "collapsed": true
   },
   "outputs": [],
   "source": [
    "from astropy.table import Table, Column, Row\n",
    "import random\n",
    "import time\n",
    "from datetime import date\n",
    "import calendar\n",
    "import numpy as np"
   ]
  },
  {
   "cell_type": "markdown",
   "metadata": {},
   "source": [
    "First I read in my weather stats table as provided by Jess"
   ]
  },
  {
   "cell_type": "code",
   "execution_count": 54,
   "metadata": {},
   "outputs": [],
   "source": [
    "wdata = Table.read('data/weather-average.csv', format='csv')"
   ]
  },
  {
   "cell_type": "markdown",
   "metadata": {},
   "source": [
    "I then make new columns containing the cumulative fraction of time in each weather band (for use later). "
   ]
  },
  {
   "cell_type": "code",
   "execution_count": 55,
   "metadata": {},
   "outputs": [],
   "source": [
    "CumulativeBand1 = Column(wdata['Band1Percentage'], name='CumulativeBand1', format='.1f')\n",
    "wdata.add_column(CumulativeBand1)\n",
    "CumulativeBand2 = Column([x['CumulativeBand1']+x['Band2Percentage'] for x in wdata], name='CumulativeBand2', format='.1f')\n",
    "wdata.add_column(CumulativeBand2)\n",
    "CumulativeBand3 = Column([x['CumulativeBand2']+x['Band3Percentage'] for x in wdata], name='CumulativeBand3', format='.1f')\n",
    "wdata.add_column(CumulativeBand3)\n",
    "CumulativeBand4 = Column([x['CumulativeBand3']+x['Band4Percentage'] for x in wdata], name='CumulativeBand4', format='.1f')\n",
    "wdata.add_column(CumulativeBand4)\n",
    "CumulativeBand5 = Column([x['CumulativeBand4']+x['Band5Percentage'] for x in wdata], name='CumulativeBand5', format='.1f')\n",
    "wdata.add_column(CumulativeBand5)"
   ]
  },
  {
   "cell_type": "code",
   "execution_count": 56,
   "metadata": {},
   "outputs": [],
   "source": [
    "#wdata"
   ]
  },
  {
   "cell_type": "markdown",
   "metadata": {},
   "source": [
    "I define a loook up dictionary for easy table access - months are not month values but rather positions in the table\n"
   ]
  },
  {
   "cell_type": "code",
   "execution_count": 57,
   "metadata": {},
   "outputs": [],
   "source": [
    "dict = {'February': 0, 'March': 1, 'April': 2, 'May': 3, 'June': 4, 'July': 5, 'August': 6, 'September': 7, 'October': 8, 'November': 9, 'December': 10, 'January': 11}"
   ]
  },
  {
   "cell_type": "markdown",
   "metadata": {},
   "source": [
    "Now I need to load in my schedule file from this it will detemrine the month and number of days I need to predict for"
   ]
  },
  {
   "cell_type": "code",
   "execution_count": 59,
   "metadata": {},
   "outputs": [
    {
     "data": {
      "text/html": [
       "&lt;Table masked=True length=14&gt;\n",
       "<table id=\"table4679789928\" class=\"table-striped table-bordered table-condensed\">\n",
       "<thead><tr><th>Date</th><th>Priority1</th><th>Priority2</th><th>Year</th><th>Month</th><th>Day</th></tr></thead>\n",
       "<thead><tr><th>int64</th><th>str8</th><th>str8</th><th>int64</th><th>str8</th><th>int64</th></tr></thead>\n",
       "<tr><td>20180201</td><td>M16AL006</td><td>M17BL009</td><td>2018</td><td>February</td><td>1</td></tr>\n",
       "<tr><td>20180202</td><td>M16AL006</td><td>M17BL009</td><td>2018</td><td>February</td><td>2</td></tr>\n",
       "<tr><td>20180203</td><td>M16AL006</td><td>M17BL009</td><td>2018</td><td>February</td><td>3</td></tr>\n",
       "<tr><td>20180204</td><td>M16AL006</td><td>M17BL009</td><td>2018</td><td>February</td><td>4</td></tr>\n",
       "<tr><td>20180205</td><td>M16AL006</td><td>M17BL009</td><td>2018</td><td>February</td><td>5</td></tr>\n",
       "<tr><td>20180206</td><td>M17BL004</td><td>--</td><td>2018</td><td>February</td><td>6</td></tr>\n",
       "<tr><td>20180207</td><td>M17BL004</td><td>--</td><td>2018</td><td>February</td><td>7</td></tr>\n",
       "<tr><td>20180208</td><td>M17BL004</td><td>--</td><td>2018</td><td>February</td><td>8</td></tr>\n",
       "<tr><td>20180209</td><td>M17BL004</td><td>--</td><td>2018</td><td>February</td><td>9</td></tr>\n",
       "<tr><td>20180210</td><td>M17BL004</td><td>--</td><td>2018</td><td>February</td><td>10</td></tr>\n",
       "<tr><td>20180216</td><td>M16AL004</td><td>M17BL011</td><td>2018</td><td>February</td><td>16</td></tr>\n",
       "<tr><td>20180217</td><td>M16AL004</td><td>M17BL011</td><td>2018</td><td>February</td><td>17</td></tr>\n",
       "<tr><td>20180218</td><td>M16AL004</td><td>M17BL011</td><td>2018</td><td>February</td><td>18</td></tr>\n",
       "<tr><td>20180219</td><td>M16AL004</td><td>M17BL011</td><td>2018</td><td>February</td><td>19</td></tr>\n",
       "</table>"
      ],
      "text/plain": [
       "<Table masked=True length=14>\n",
       "  Date   Priority1 Priority2  Year  Month    Day \n",
       " int64      str8      str8   int64   str8   int64\n",
       "-------- --------- --------- ----- -------- -----\n",
       "20180201  M16AL006  M17BL009  2018 February     1\n",
       "20180202  M16AL006  M17BL009  2018 February     2\n",
       "20180203  M16AL006  M17BL009  2018 February     3\n",
       "20180204  M16AL006  M17BL009  2018 February     4\n",
       "20180205  M16AL006  M17BL009  2018 February     5\n",
       "20180206  M17BL004        --  2018 February     6\n",
       "20180207  M17BL004        --  2018 February     7\n",
       "20180208  M17BL004        --  2018 February     8\n",
       "20180209  M17BL004        --  2018 February     9\n",
       "20180210  M17BL004        --  2018 February    10\n",
       "20180216  M16AL004  M17BL011  2018 February    16\n",
       "20180217  M16AL004  M17BL011  2018 February    17\n",
       "20180218  M16AL004  M17BL011  2018 February    18\n",
       "20180219  M16AL004  M17BL011  2018 February    19"
      ]
     },
     "execution_count": 59,
     "metadata": {},
     "output_type": "execute_result"
    }
   ],
   "source": [
    "# need to supply table with list of dates on which we will observe - \n",
    "# from this table my code needs to know month and number of days - to allocated a weather band for the night\n",
    "# the UT date and weather bad is then needed as input into Michael Polhen's code\n",
    "\n",
    "sdata = Table.read('data/18A_schedule.csv', format='csv')\n",
    "\n",
    "# splitting up YYYYMMDD into YYYY MM DD\n",
    "yearForTable = Column([int(x/10000) for x in sdata['Date']], name='Year')\n",
    "monthForTable = Column([calendar.month_name[ int(int(x-((int(x/10000))*10000))/100)] for x in sdata['Date']], name='Month')\n",
    "dayForTable = Column([x - (int(x/100)*100) for x in sdata['Date']], name='Day')\n",
    "sdata.add_column(yearForTable)\n",
    "sdata.add_column(monthForTable)\n",
    "sdata.add_column(dayForTable)\n",
    "\n",
    "# obtaines data when not PI time (PI = UH and DDT and E&C)\n",
    "\n",
    "LAPsdata = sdata[sdata['Priority1']!='PI'] \n",
    "\n",
    "# for now only look at one month\n",
    "\n",
    "month = 'February' #### CHANGE\n",
    "\n",
    "MonthLAPSdata = LAPsdata[LAPsdata['Month']==month]\n",
    "\n",
    "numberofdays = (len(MonthLAPSdata))\n",
    "\n",
    "MonthLAPSdata"
   ]
  },
  {
   "cell_type": "code",
   "execution_count": 61,
   "metadata": {},
   "outputs": [
    {
     "name": "stdout",
     "output_type": "stream",
     "text": [
      "examining February with 14 days scheduled\n"
     ]
    }
   ],
   "source": [
    "print (\"examining {} with {} days scheduled\".format(month,numberofdays))"
   ]
  },
  {
   "cell_type": "code",
   "execution_count": null,
   "metadata": {},
   "outputs": [],
   "source": []
  },
  {
   "cell_type": "code",
   "execution_count": 36,
   "metadata": {
    "collapsed": true
   },
   "outputs": [],
   "source": []
  },
  {
   "cell_type": "markdown",
   "metadata": {
    "collapsed": true
   },
   "source": [
    "I then generate random numbers from 0-100 for the number of days dedicate to LAP programs in my month and use the \"cumulative fraction of weather\" stats to allocated an entire night to a weather band"
   ]
  },
  {
   "cell_type": "code",
   "execution_count": 38,
   "metadata": {},
   "outputs": [
    {
     "name": "stdout",
     "output_type": "stream",
     "text": [
      "Examining 14 nights alloacted in February \n",
      "\n",
      "fraction of nights Band 1=15.7%, 2=23.3%, 3=16.0%, 4=20.7% and 5=17.8%\n",
      "\n",
      "Band 5 night\n",
      "Band 3 night\n",
      "Band 5 night\n",
      "Band 2 night\n",
      "Band 5 night\n",
      "Band 5 night\n",
      "Band 5 night\n",
      "Band 4 night\n",
      "Band 2 night\n",
      "Band 5 night\n",
      "Band 5 night\n",
      "Band 4 night\n",
      "Band 3 night\n",
      "Band 2 night\n",
      "\n",
      "fraction output 1=0.00%, 2=21.43%, 3=14.29%, 4=14.29% and 5=50.00% (closed 0.00%)\n",
      "[5, 3, 5, 2, 5, 5, 5, 4, 2, 5, 5, 4, 3, 2]\n"
     ]
    }
   ],
   "source": [
    "randomweather = random.sample(range(1, 100),numberofdays)\n",
    "print (\"Examining {} nights alloacted in {} \\n\".format(numberofdays,month))\n",
    "\n",
    "print ((\"fraction of nights Band 1={}%, 2={}%, 3={}%, 4={}% and 5={}%\\n\".format(wdata['Band1Percentage'][dict[month]],wdata['Band2Percentage'][dict[month]],wdata['Band3Percentage'][dict[month]],wdata['Band4Percentage'][dict[month]],wdata['Band5Percentage'][dict[month]])))\n",
    "\n",
    "b1 = 0 # counter for number of days in band 1\n",
    "b2 = 0\n",
    "b3 = 0\n",
    "b4 = 0\n",
    "b5 = 0\n",
    "b6 = 0\n",
    "sdatabanddata  = ([])\n",
    "\n",
    "for x in randomweather:\n",
    "#    print (x)\n",
    "    if x <= wdata['CumulativeBand1'][dict[month]]:\n",
    "        print (\"Band 1 night\")\n",
    "        b1 += 1\n",
    "        sdatabanddata.append(1)\n",
    "    if wdata['CumulativeBand1'][dict[month]] <= x <= wdata['CumulativeBand2'][dict[month]]: \n",
    "        print (\"Band 2 night\")\n",
    "        b2 += 1\n",
    "        sdatabanddata.append(2)\n",
    "    if wdata['CumulativeBand2'][dict[month]] <= x <= wdata['CumulativeBand3'][dict[month]]:  \n",
    "        print (\"Band 3 night\")\n",
    "        b3 += 1\n",
    "        sdatabanddata.append(3)\n",
    "    if wdata['CumulativeBand3'][dict[month]] <= x <= wdata['CumulativeBand4'][dict[month]]:  \n",
    "        print (\"Band 4 night\")\n",
    "        b4 += 1\n",
    "        sdatabanddata.append(4)\n",
    "    if wdata['CumulativeBand4'][dict[month]] <= x <= wdata['CumulativeBand5'][dict[month]]: \n",
    "        print (\"Band 5 night\")\n",
    "        b5 += 1\n",
    "        sdatabanddata.append(5)\n",
    "    if x >= wdata['CumulativeBand5'][dict[month]]:\n",
    "        print (\"Closed\")\n",
    "        b6 += 1\n",
    "        sdatabanddata.append(6)\n",
    "            \n",
    "print (\"\\nfraction output 1={:.2f}%, 2={:.2f}%, 3={:.2f}%, 4={:.2f}% and 5={:.2f}% (closed {:.2f}%)\".format(b1/numberofdays*100,b2/numberofdays*100,b3/numberofdays*100,b4/numberofdays*100,b5/numberofdays*100,b6/numberofdays*100))\n",
    "print (sdatabanddata)"
   ]
  },
  {
   "cell_type": "code",
   "execution_count": null,
   "metadata": {},
   "outputs": [],
   "source": [
    "#sdatabanddata.T\n",
    "#print (sdatabanddata.T)\n",
    "#banddata = Column(sdatabanddata, name='WeatherBand')\n",
    "#sdata.add_column(banddata)\n"
   ]
  },
  {
   "cell_type": "markdown",
   "metadata": {},
   "source": [
    "In essence I then need to calculate how many night in a month are in each weatherbands and run Michael's code on the relevent "
   ]
  },
  {
   "cell_type": "code",
   "execution_count": null,
   "metadata": {
    "collapsed": true
   },
   "outputs": [],
   "source": []
  },
  {
   "cell_type": "code",
   "execution_count": null,
   "metadata": {
    "collapsed": true
   },
   "outputs": [],
   "source": []
  }
 ],
 "metadata": {
  "kernelspec": {
   "display_name": "Python 3",
   "language": "python",
   "name": "python3"
  },
  "language_info": {
   "codemirror_mode": {
    "name": "ipython",
    "version": 3
   },
   "file_extension": ".py",
   "mimetype": "text/x-python",
   "name": "python",
   "nbconvert_exporter": "python",
   "pygments_lexer": "ipython3",
   "version": "3.6.1"
  }
 },
 "nbformat": 4,
 "nbformat_minor": 2
}
